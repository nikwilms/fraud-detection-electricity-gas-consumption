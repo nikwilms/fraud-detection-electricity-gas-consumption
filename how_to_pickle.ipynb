{
 "cells": [
  {
   "cell_type": "markdown",
   "metadata": {},
   "source": [
    "# How to load data with pickle?"
   ]
  },
  {
   "cell_type": "markdown",
   "metadata": {},
   "source": [
    "### Load data from pickle-file\n",
    "- data was packed in a dictionary and saved in data.pkl\n",
    "\n",
    "    data = {</br>\n",
    "    \"X_train\": X_train,</br>\n",
    "    \"X_test\": X_test,</br>\n",
    "    \"y_train\": y_train,</br>\n",
    "    \"y_test\": y_test,</br>\n",
    "    \"df_combined\": df_combined,</br>\n",
    "    \"df_combined_encoded\": df_combined_encoded</br>\n",
    "    }\n"
   ]
  },
  {
   "cell_type": "code",
   "execution_count": 2,
   "metadata": {},
   "outputs": [],
   "source": [
    "import pickle\n",
    "with open('data/data.pkl', 'rb') as f:\n",
    "    data = pickle.load(f)\n"
   ]
  },
  {
   "cell_type": "code",
   "execution_count": 5,
   "metadata": {},
   "outputs": [
    {
     "data": {
      "text/plain": [
       "dict_keys(['X_train', 'X_test', 'y_train', 'y_test', 'df_combined', 'df_combined_encoded'])"
      ]
     },
     "execution_count": 5,
     "metadata": {},
     "output_type": "execute_result"
    }
   ],
   "source": [
    "data.keys()"
   ]
  },
  {
   "cell_type": "code",
   "execution_count": 5,
   "metadata": {},
   "outputs": [],
   "source": [
    "# unpack variables from dictionary\n",
    "#long form\n",
    "X_train = data[\"X_train\"]\n",
    "X_test = data[\"X_test\"]\n",
    "y_train = data[\"y_train\"]\n",
    "y_test =  data[\"y_test\"]\n",
    "df_combined =  data[\"df_combined\"]\n",
    "df_combined_encoded = data[\"df_combined_encoded\"]\n",
    "\n",
    "# little shorter form\n",
    "X_train, X_test, y_train, y_test, df_combined, df_encoded = data[\"X_train\"],data[\"X_test\"],data[\"y_train\"],data[\"y_test\"],data[\"df_combined\"],data[\"df_combined_encoded\"]\n",
    "\n",
    "# short form (use only if you are sure about the order in the pickle-file!!)\n",
    "X_train, X_test, y_train, y_test, df_combined, df_encoded = data.values()"
   ]
  },
  {
   "cell_type": "markdown",
   "metadata": {},
   "source": [
    "### How to pack data in a pickle:"
   ]
  },
  {
   "cell_type": "code",
   "execution_count": 10,
   "metadata": {},
   "outputs": [],
   "source": [
    "data = {\n",
    "    \"X_train\": X_train,\n",
    "    \"X_test\": X_test,\n",
    "    \"y_train\": y_train,\n",
    "    \"y_test\": y_test,\n",
    "    \"df_combined\": df_combined,\n",
    "    \"df_combined_encoded\": df_combined_encoded\n",
    "}\n",
    "\n",
    "with open('data/data_test.pkl', 'wb') as f:\n",
    "    pickle.dump(data,f)\n"
   ]
  },
  {
   "cell_type": "code",
   "execution_count": 12,
   "metadata": {},
   "outputs": [],
   "source": [
    "# basically any variable or object can be saved in a pickle\n",
    "from sklearn.tree import DecisionTreeClassifier\n",
    "\n",
    "\n",
    "dec_tree = DecisionTreeClassifier( \n",
    "            criterion = \"gini\",\n",
    "            max_depth = 10, min_samples_leaf = 5)\n",
    "dec_tree.fit(X_train, y_train)\n",
    "\n",
    "with open('data/model_test.pkl', 'wb') as f:\n",
    "    pickle.dump(dec_tree,f)\n",
    "\n"
   ]
  },
  {
   "cell_type": "code",
   "execution_count": 13,
   "metadata": {},
   "outputs": [
    {
     "data": {
      "text/plain": [
       "{'ccp_alpha': 0.0,\n",
       " 'class_weight': None,\n",
       " 'criterion': 'gini',\n",
       " 'max_depth': 10,\n",
       " 'max_features': None,\n",
       " 'max_leaf_nodes': None,\n",
       " 'min_impurity_decrease': 0.0,\n",
       " 'min_samples_leaf': 5,\n",
       " 'min_samples_split': 2,\n",
       " 'min_weight_fraction_leaf': 0.0,\n",
       " 'random_state': None,\n",
       " 'splitter': 'best'}"
      ]
     },
     "execution_count": 13,
     "metadata": {},
     "output_type": "execute_result"
    }
   ],
   "source": [
    "# get the model back\n",
    "with open('data/model_test.pkl', 'rb') as f:\n",
    "    dec_model = pickle.load(f)\n",
    "\n",
    "dec_model.get_params()"
   ]
  }
 ],
 "metadata": {
  "kernelspec": {
   "display_name": ".venv",
   "language": "python",
   "name": "python3"
  },
  "language_info": {
   "codemirror_mode": {
    "name": "ipython",
    "version": 3
   },
   "file_extension": ".py",
   "mimetype": "text/x-python",
   "name": "python",
   "nbconvert_exporter": "python",
   "pygments_lexer": "ipython3",
   "version": "3.11.3"
  },
  "orig_nbformat": 4
 },
 "nbformat": 4,
 "nbformat_minor": 2
}
