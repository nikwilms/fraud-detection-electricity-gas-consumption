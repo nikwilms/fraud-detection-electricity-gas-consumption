{
 "cells": [
  {
   "cell_type": "markdown",
   "metadata": {},
   "source": [
    "# Fraud Detection in Electricity and Gas Consumption Challenge\n",
    "\n",
    "This is a simple starter notebook based on the tutorial prepared by Joy Wawira. Check out the article [here](https://zindi.africa/learn/fraud-detection-in-electricity-and-gas-consumption-challenge-tutorial) for a more detailed description of the steps taken.\n",
    "\n",
    "This notebook covers:\n",
    "- Downloading the data straight from Zindi and onto colab\n",
    "- Loading the data and carrying out simple EDA to understand the data and prepare for modelling \n",
    "- Preprocessing the data and feature engineering \n",
    "- Creating a simple LGBM model and predicting on the test set\n",
    "- Prepare submission file and save as csv\n",
    "- Some tips on how to improve model performance and your score"
   ]
  },
  {
   "cell_type": "markdown",
   "metadata": {},
   "source": [
    "**Columns explanation**\n",
    "\n",
    "\n",
    "About\n",
    "The data provided by STEG is composed of two files. The first one is comprised of client data and the second one contains billing history from 2005 to 2019.\n",
    "\n",
    "There are 2 .zip files for download, train.zip, and test.zip and a SampleSubmission.csv. In each .zip file you will find a client and invoice file.\n",
    "\n",
    "Variable definitions\n",
    "\n",
    "Client:\n",
    "\n",
    "* Client_id: Unique id for client\n",
    "* District: District where the client is\n",
    "* Client_catg: Category client belongs to\n",
    "* Region: Area where the client is\n",
    "* Creation_date: Date client joined\n",
    "* Target: fraud:1 , not fraud: 0\n",
    "\n",
    "Invoice data\n",
    "\n",
    "* Client_id: Unique id for the client\n",
    "* Invoice_date: Date of the invoice\n",
    "* Tarif_type: Type of tax\n",
    "* Counter_number:\n",
    "* Counter_statue: takes up to 5 values such as working fine, not working, on hold statue, ect\n",
    "* Counter_code:\n",
    "* Reading_remarque: notes that the STEG agent takes during his visit to the client (e.g: If the counter shows something wrong, the agent gives a bad score)\n",
    "* Counter_coefficient: An additional coefficient to be added when standard consumption is exceeded\n",
    "* Consommation_level_1: Consumption_level_1\n",
    "* Consommation_level_2: Consumption_level_2\n",
    "* Consommation_level_3: Consumption_level_3\n",
    "* Consommation_level_4: Consumption_level_4\n",
    "* Old_index: Old index\n",
    "* New_index: New index\n",
    "* Months_number: Month number\n",
    "* Counter_type: Type of counter"
   ]
  },
  {
   "cell_type": "code",
   "execution_count": 3,
   "metadata": {},
   "outputs": [],
   "source": [
    "# Import libraries"
   ]
  },
  {
   "cell_type": "code",
   "execution_count": 4,
   "metadata": {},
   "outputs": [],
   "source": [
    "import warnings\n",
    "\n",
    "warnings.filterwarnings(\"ignore\")\n",
    "\n",
    "import pandas as pd\n",
    "import numpy as np\n",
    "import matplotlib.pyplot as plt\n",
    "import seaborn as sns\n",
    "import os\n",
    "\n",
    "from imblearn.over_sampling import SMOTE\n",
    "\n",
    "# Preprocessing\n",
    "from sklearn.preprocessing import MinMaxScaler, StandardScaler, RobustScaler, OneHotEncoder, OrdinalEncoder\n",
    "from src.preprocessing.agg_invoice import agg_invoice_num_mode_no_monthly_weighting, agg_invoice_num_mode_monthly_weighting\n",
    "from src.preprocessing.cleaning import convert_dtype_cat_date\n",
    "\n",
    "\n",
    "\n",
    "from sklearn.svm import SVC\n",
    "from sklearn.metrics import fbeta_score, make_scorer\n",
    "from sklearn.model_selection import train_test_split\n",
    "from sklearn.metrics import accuracy_score, f1_score, precision_score, recall_score, roc_auc_score, roc_curve, confusion_matrix, classification_report\n",
    "from sklearn.linear_model import LogisticRegression\n",
    "from sklearn.neighbors import KNeighborsClassifier\n",
    "from sklearn.tree import DecisionTreeClassifier\n",
    "from sklearn.ensemble import RandomForestClassifier\n",
    "import warnings\n",
    "from sklearn import preprocessing\n",
    "from sklearn.preprocessing import OrdinalEncoder\n",
    "\n",
    "from matplotlib.ticker import PercentFormatter\n",
    "plt.rcParams.update({ \"figure.figsize\" : (8, 5),\"axes.facecolor\" : \"white\", \"axes.edgecolor\":  \"black\"})\n",
    "plt.rcParams[\"figure.facecolor\"]= \"w\"\n",
    "pd.plotting.register_matplotlib_converters()\n",
    "pd.set_option('display.float_format', lambda x: '%.3f' % x)\n",
    "\n",
    "\n",
    "# Define a plotting style to be used for all plots in this notebook\n",
    "plt.style.use('tableau-colorblind10')\n",
    "\n",
    "#from sqalchemy import create_engine\n",
    "#from dotenv import load_dotenv"
   ]
  },
  {
   "cell_type": "code",
   "execution_count": 5,
   "metadata": {},
   "outputs": [],
   "source": [
    "df_client_train = pd.read_csv('data/train/client_train.csv')\n",
    "df_invoice_train = pd.read_csv('data/train/invoice_train.csv')"
   ]
  },
  {
   "cell_type": "code",
   "execution_count": 6,
   "metadata": {},
   "outputs": [],
   "source": [
    "# Convert date time format\n",
    "\n",
    "df_invoice_train['invoice_date'] = pd.to_datetime(df_invoice_train['invoice_date'])\n",
    "df_client_train['creation_date'] = pd.to_datetime(df_client_train['creation_date'])\n"
   ]
  },
  {
   "cell_type": "code",
   "execution_count": 7,
   "metadata": {},
   "outputs": [],
   "source": [
    "# Feature engineering (aggregate)\n",
    "\n",
    "df_invoice= agg_invoice_num_mode_monthly_weighting(df_invoice_train)"
   ]
  },
  {
   "cell_type": "code",
   "execution_count": 8,
   "metadata": {},
   "outputs": [],
   "source": [
    "# merge dataframes\n",
    "\n",
    "df_combined = pd.merge(df_client_train, df_invoice, on='client_id', how='inner')\n"
   ]
  },
  {
   "cell_type": "code",
   "execution_count": 9,
   "metadata": {},
   "outputs": [],
   "source": [
    "# call cleaning function (convert categories, rename columns, etc.)\n",
    "\n",
    "df_combined = convert_dtype_cat_date(df_combined) "
   ]
  },
  {
   "cell_type": "code",
   "execution_count": 10,
   "metadata": {},
   "outputs": [
    {
     "name": "stdout",
     "output_type": "stream",
     "text": [
      "<class 'pandas.core.frame.DataFrame'>\n",
      "Index: 130620 entries, 0 to 135492\n",
      "Data columns (total 18 columns):\n",
      " #   Column                Non-Null Count   Dtype         \n",
      "---  ------                --------------   -----         \n",
      " 0   district              130620 non-null  category      \n",
      " 1   client_id             130620 non-null  object        \n",
      " 2   client_catg           130620 non-null  category      \n",
      " 3   region                130620 non-null  category      \n",
      " 4   creation_date         130620 non-null  datetime64[ns]\n",
      " 5   target                130620 non-null  float64       \n",
      " 6   months_number         130620 non-null  float64       \n",
      " 7   invoice_date          130620 non-null  datetime64[ns]\n",
      " 8   counter_coefficient   130620 non-null  float64       \n",
      " 9   tarif_type            130620 non-null  category      \n",
      " 10  counter_statue        130620 non-null  category      \n",
      " 11  counter_code          130620 non-null  category      \n",
      " 12  reading_remarque      130620 non-null  category      \n",
      " 13  counter_type          130620 non-null  category      \n",
      " 14  consommation_level_1  130620 non-null  float64       \n",
      " 15  consommation_level_2  130620 non-null  float64       \n",
      " 16  consommation_level_3  130620 non-null  float64       \n",
      " 17  consommation_level_4  130620 non-null  float64       \n",
      "dtypes: category(8), datetime64[ns](2), float64(7), object(1)\n",
      "memory usage: 12.0+ MB\n"
     ]
    }
   ],
   "source": [
    "df_combined.info()"
   ]
  },
  {
   "cell_type": "code",
   "execution_count": 11,
   "metadata": {},
   "outputs": [],
   "source": [
    "# Feature engineering (one hot encode all categorical variables)\n",
    "\n",
    "categorical_variables = ['district','client_catg','region', 'tarif_type','counter_statue','counter_code','reading_remarque','counter_type'] # all categorical variables\n",
    "df_combined_encoded = [[]]\n",
    "df_combined_encoded = pd.get_dummies(df_combined, columns=categorical_variables, drop_first=True) # one hot encode all categorical variables\n",
    "\n",
    "#df_combined_encoded.info()"
   ]
  },
  {
   "cell_type": "code",
   "execution_count": 12,
   "metadata": {},
   "outputs": [
    {
     "name": "stdout",
     "output_type": "stream",
     "text": [
      "<class 'pandas.core.frame.DataFrame'>\n",
      "Index: 130620 entries, 0 to 135492\n",
      "Columns: 108 entries, client_id to counter_type_GAZ\n",
      "dtypes: bool(98), float64(7), int64(2), object(1)\n",
      "memory usage: 23.2+ MB\n"
     ]
    }
   ],
   "source": [
    "# reconvert datetime to numeric\n",
    "\n",
    "reconvert_to_numeric = ['creation_date','invoice_date']\n",
    "\n",
    "for col in reconvert_to_numeric:\n",
    "    df_combined_encoded[col] = pd.to_numeric(df_combined_encoded[col]) # convert datetime back into numeric\n",
    "\n",
    "df_combined_encoded.info()"
   ]
  },
  {
   "cell_type": "code",
   "execution_count": 13,
   "metadata": {},
   "outputs": [],
   "source": [
    "# Define target(y) and features (X)\n",
    "\n",
    "X = df_combined_encoded.drop(['target'], axis=1)\n",
    "y = df_combined_encoded['target']"
   ]
  },
  {
   "cell_type": "code",
   "execution_count": 14,
   "metadata": {},
   "outputs": [],
   "source": [
    "# We use Client_id as index from now on\n",
    "\n",
    "X.set_index('client_id', inplace=True)"
   ]
  },
  {
   "cell_type": "code",
   "execution_count": 15,
   "metadata": {},
   "outputs": [],
   "source": [
    "# train test split\n",
    "\n",
    "X_train, X_test, y_train, y_test = train_test_split(X,y, test_size=0.2, stratify=y, random_state=42)"
   ]
  },
  {
   "cell_type": "code",
   "execution_count": 16,
   "metadata": {},
   "outputs": [],
   "source": [
    "# decision tree test\n",
    "\n",
    "dec_tree = DecisionTreeClassifier( \n",
    "            criterion = \"gini\",\n",
    "            max_depth = 10, min_samples_leaf = 5)\n",
    "dec_tree.fit(X_train, y_train)\n",
    "y_pred = dec_tree.predict(X_test) \n",
    "\n",
    "y_pred_proba = dec_tree.predict_proba(X_test) \n",
    "\n"
   ]
  },
  {
   "cell_type": "code",
   "execution_count": 19,
   "metadata": {},
   "outputs": [],
   "source": [
    "# decision tree test\n",
    "\n",
    "y_pred_train = dec_tree.predict(X_train) \n",
    "\n",
    "y_pred_proba_train = dec_tree.predict_proba(X_train)"
   ]
  },
  {
   "cell_type": "code",
   "execution_count": 20,
   "metadata": {},
   "outputs": [
    {
     "name": "stdout",
     "output_type": "stream",
     "text": [
      "---------------------------------------------------------------------------\n",
      "Confusion Matrix: \n",
      " [[98638   171]\n",
      " [ 5268   419]]\n",
      "---------------------------------------------------------------------------\n",
      "Accuracy : \n",
      " 94.79501607717042\n",
      "---------------------------------------------------------------------------\n",
      "Report : \n",
      "               precision    recall  f1-score   support\n",
      "\n",
      "         0.0       0.95      1.00      0.97     98809\n",
      "         1.0       0.71      0.07      0.13      5687\n",
      "\n",
      "    accuracy                           0.95    104496\n",
      "   macro avg       0.83      0.54      0.55    104496\n",
      "weighted avg       0.94      0.95      0.93    104496\n",
      "\n",
      "0.8008604806082006\n"
     ]
    },
    {
     "data": {
      "image/png": "[encoded data removed]",
      "text/plain": [
       "<Figure size 800x500 with 1 Axes>"
      ]
     },
     "metadata": {},
     "output_type": "display_data"
    }
   ],
   "source": [
    "# evaluate train data set\n",
    "\n",
    "\n",
    "print(\"-----\"*15)\n",
    "print(\"Confusion Matrix: \\n\", \n",
    "confusion_matrix(y_train, y_pred_train)) \n",
    "\n",
    "print(\"-----\"*15)\n",
    "print (\"Accuracy : \\n\", \n",
    "accuracy_score(y_train, y_pred_train) * 100) \n",
    "\n",
    "print(\"-----\"*15)\n",
    "print(\"Report : \\n\", \n",
    "classification_report(y_train, y_pred_train))\n",
    "\n",
    "print(roc_auc_score(y_train, y_pred_proba_train[:,1]))\n",
    "\n",
    "# plot roc curve\n",
    "\n",
    "fpr, tpr, thresholds = roc_curve(y_train, y_pred_proba_train[:,1])\n",
    "plt.plot(fpr, tpr, label='ROC curve')\n",
    "plt.plot([0, 1], [0, 1], linestyle='--', label='Random classifier')\n",
    "plt.xlabel('False Positive Rate')\n",
    "plt.ylabel('True Positive Rate')\n",
    "plt.title('ROC curve')\n",
    "plt.legend()\n",
    "plt.show()"
   ]
  },
  {
   "cell_type": "code",
   "execution_count": 18,
   "metadata": {},
   "outputs": [
    {
     "name": "stdout",
     "output_type": "stream",
     "text": [
      "---------------------------------------------------------------------------\n",
      "Confusion Matrix: \n",
      " [[24597   105]\n",
      " [ 1388    34]]\n",
      "---------------------------------------------------------------------------\n",
      "Accuracy : \n",
      " 94.28494870617057\n",
      "---------------------------------------------------------------------------\n",
      "Report : \n",
      "               precision    recall  f1-score   support\n",
      "\n",
      "         0.0       0.95      1.00      0.97     24702\n",
      "         1.0       0.24      0.02      0.04      1422\n",
      "\n",
      "    accuracy                           0.94     26124\n",
      "   macro avg       0.60      0.51      0.51     26124\n",
      "weighted avg       0.91      0.94      0.92     26124\n",
      "\n",
      "0.7280117823015748\n"
     ]
    },
    {
     "data": {
      "image/png": "[encoded data removed]",
      "text/plain": [
       "<Figure size 800x500 with 1 Axes>"
      ]
     },
     "metadata": {},
     "output_type": "display_data"
    }
   ],
   "source": [
    "# evaluate test tree\n",
    "\n",
    "print(\"-----\"*15)\n",
    "print(\"Confusion Matrix: \\n\", \n",
    "confusion_matrix(y_test, y_pred)) \n",
    "\n",
    "print(\"-----\"*15)\n",
    "print (\"Accuracy : \\n\", \n",
    "accuracy_score(y_test, y_pred) * 100) \n",
    "\n",
    "print(\"-----\"*15)\n",
    "print(\"Report : \\n\", \n",
    "classification_report(y_test, y_pred))\n",
    "\n",
    "print(roc_auc_score(y_test, y_pred_proba[:,1]))\n",
    "\n",
    "# plot roc curve\n",
    "\n",
    "fpr, tpr, thresholds = roc_curve(y_test, y_pred_proba[:,1])\n",
    "plt.plot(fpr, tpr, label='ROC curve')\n",
    "plt.plot([0, 1], [0, 1], linestyle='--', label='Random classifier')\n",
    "plt.xlabel('False Positive Rate')\n",
    "plt.ylabel('True Positive Rate')\n",
    "plt.title('ROC curve')\n",
    "plt.legend()\n",
    "plt.show()"
   ]
  },
  {
   "cell_type": "code",
   "execution_count": null,
   "metadata": {},
   "outputs": [
    {
     "data": {
      "text/plain": [
       "'\\nReturns:\\n        X_resampled : {array-like, dataframe, sparse matrix} of shape                 (n_samples_new, n_features)\\n            The array containing the resampled data.\\n\\n        y_resampled : array-like of shape (n_samples_new,)\\n            The corresponding label of `X_resampled`.'"
      ]
     },
     "execution_count": 30,
     "metadata": {},
     "output_type": "execute_result"
    }
   ],
   "source": [
    "# SMOTE (after split & only for training dataset to prevent data leakage)\n",
    "\n",
    "smote = SMOTE(sampling_strategy='auto') # we initialize smote, 'auto' --> resample all classes but the majority class, we can put a float here to \n",
    "\n",
    "'''When float, it corresponds to the desired ratio of the number of samples in the minority class over the number of samples in the majority class after resampling. Therefore, the ratio is expressed as \n",
    " where \n",
    " is the number of samples in the minority class after resampling and \n",
    " is the number of samples in the majority class.'''\n",
    "\n",
    "X_train_resampled, y_train_resampled = smote.fit_resample(X_train, y_train)\n",
    "\n",
    "'''\n",
    "Returns:\n",
    "        X_resampled : {array-like, dataframe, sparse matrix} of shape \\\n",
    "                (n_samples_new, n_features)\n",
    "            The array containing the resampled data.\n",
    "\n",
    "        y_resampled : array-like of shape (n_samples_new,)\n",
    "            The corresponding label of `X_resampled`.'''\n"
   ]
  },
  {
   "cell_type": "code",
   "execution_count": null,
   "metadata": {},
   "outputs": [
    {
     "name": "stdout",
     "output_type": "stream",
     "text": [
      "<class 'pandas.core.frame.DataFrame'>\n",
      "Index: 108394 entries, train_Client_46032 to train_Client_74942\n",
      "Columns: 106 entries, creation_date to counter_type_GAZ\n",
      "dtypes: bool(98), float64(6), int64(2)\n",
      "memory usage: 17.6+ MB\n",
      "<class 'pandas.core.frame.DataFrame'>\n",
      "RangeIndex: 204682 entries, 0 to 204681\n",
      "Columns: 106 entries, creation_date to counter_type_GAZ\n",
      "dtypes: bool(98), float64(6), int64(2)\n",
      "memory usage: 31.6 MB\n"
     ]
    },
    {
     "data": {
      "text/plain": [
       "None"
      ]
     },
     "metadata": {},
     "output_type": "display_data"
    },
    {
     "data": {
      "text/plain": [
       "None"
      ]
     },
     "metadata": {},
     "output_type": "display_data"
    }
   ],
   "source": [
    "display(X_train.info(),X_train_resampled.info())"
   ]
  },
  {
   "cell_type": "code",
   "execution_count": null,
   "metadata": {},
   "outputs": [
    {
     "ename": "KeyError",
     "evalue": "'target'",
     "output_type": "error",
     "traceback": [
      "\u001b[0;31m---------------------------------------------------------------------------\u001b[0m",
      "\u001b[0;31mKeyError\u001b[0m                                  Traceback (most recent call last)",
      "File \u001b[0;32m~/repos/ml_project_mariusbosch/gas-fraud-team-crime/.venv/lib/python3.11/site-packages/pandas/core/indexes/base.py:3652\u001b[0m, in \u001b[0;36mIndex.get_loc\u001b[0;34m(self, key)\u001b[0m\n\u001b[1;32m   3651\u001b[0m \u001b[39mtry\u001b[39;00m:\n\u001b[0;32m-> 3652\u001b[0m     \u001b[39mreturn\u001b[39;00m \u001b[39mself\u001b[39;49m\u001b[39m.\u001b[39;49m_engine\u001b[39m.\u001b[39;49mget_loc(casted_key)\n\u001b[1;32m   3653\u001b[0m \u001b[39mexcept\u001b[39;00m \u001b[39mKeyError\u001b[39;00m \u001b[39mas\u001b[39;00m err:\n",
      "File \u001b[0;32m~/repos/ml_project_mariusbosch/gas-fraud-team-crime/.venv/lib/python3.11/site-packages/pandas/_libs/index.pyx:147\u001b[0m, in \u001b[0;36mpandas._libs.index.IndexEngine.get_loc\u001b[0;34m()\u001b[0m\n",
      "File \u001b[0;32m~/repos/ml_project_mariusbosch/gas-fraud-team-crime/.venv/lib/python3.11/site-packages/pandas/_libs/index.pyx:171\u001b[0m, in \u001b[0;36mpandas._libs.index.IndexEngine.get_loc\u001b[0;34m()\u001b[0m\n",
      "File \u001b[0;32m~/repos/ml_project_mariusbosch/gas-fraud-team-crime/.venv/lib/python3.11/site-packages/pandas/_libs/index.pyx:214\u001b[0m, in \u001b[0;36mpandas._libs.index.IndexEngine._get_loc_duplicates\u001b[0;34m()\u001b[0m\n",
      "File \u001b[0;32m~/repos/ml_project_mariusbosch/gas-fraud-team-crime/.venv/lib/python3.11/site-packages/pandas/_libs/index.pyx:222\u001b[0m, in \u001b[0;36mpandas._libs.index.IndexEngine._maybe_get_bool_indexer\u001b[0;34m()\u001b[0m\n",
      "File \u001b[0;32m~/repos/ml_project_mariusbosch/gas-fraud-team-crime/.venv/lib/python3.11/site-packages/pandas/_libs/index.pyx:114\u001b[0m, in \u001b[0;36mpandas._libs.index._unpack_bool_indexer\u001b[0;34m()\u001b[0m\n",
      "\u001b[0;31mKeyError\u001b[0m: 'target'",
      "\nThe above exception was the direct cause of the following exception:\n",
      "\u001b[0;31mKeyError\u001b[0m                                  Traceback (most recent call last)",
      "Cell \u001b[0;32mIn[66], line 6\u001b[0m\n\u001b[1;32m      1\u001b[0m \u001b[39m# Correlation before and after resampling\u001b[39;00m\n\u001b[1;32m      2\u001b[0m \n\u001b[1;32m      3\u001b[0m \u001b[39m# correlation of target with features BEFORE resampling\u001b[39;00m\n\u001b[1;32m      5\u001b[0m df_corr_unsampled \u001b[39m=\u001b[39m X_train\n\u001b[0;32m----> 6\u001b[0m df_corr_unsampled\u001b[39m.\u001b[39;49mcorr()[\u001b[39m'\u001b[39;49m\u001b[39mtarget\u001b[39;49m\u001b[39m'\u001b[39;49m]\u001b[39m.\u001b[39msort_values(ascending\u001b[39m=\u001b[39m\u001b[39mFalse\u001b[39;00m)\n\u001b[1;32m      7\u001b[0m plt\u001b[39m.\u001b[39mfigure(figsize\u001b[39m=\u001b[39m(\u001b[39m10\u001b[39m,\u001b[39m10\u001b[39m))\n\u001b[1;32m      8\u001b[0m sns\u001b[39m.\u001b[39mheatmap(df_corr_unsampled\u001b[39m.\u001b[39mcorr()\u001b[39m.\u001b[39mround(\u001b[39m2\u001b[39m), annot\u001b[39m=\u001b[39m\u001b[39mTrue\u001b[39;00m, cmap\u001b[39m=\u001b[39m\u001b[39m'\u001b[39m\u001b[39mcoolwarm\u001b[39m\u001b[39m'\u001b[39m)\n",
      "File \u001b[0;32m~/repos/ml_project_mariusbosch/gas-fraud-team-crime/.venv/lib/python3.11/site-packages/pandas/core/frame.py:3761\u001b[0m, in \u001b[0;36mDataFrame.__getitem__\u001b[0;34m(self, key)\u001b[0m\n\u001b[1;32m   3759\u001b[0m \u001b[39mif\u001b[39;00m \u001b[39mself\u001b[39m\u001b[39m.\u001b[39mcolumns\u001b[39m.\u001b[39mnlevels \u001b[39m>\u001b[39m \u001b[39m1\u001b[39m:\n\u001b[1;32m   3760\u001b[0m     \u001b[39mreturn\u001b[39;00m \u001b[39mself\u001b[39m\u001b[39m.\u001b[39m_getitem_multilevel(key)\n\u001b[0;32m-> 3761\u001b[0m indexer \u001b[39m=\u001b[39m \u001b[39mself\u001b[39;49m\u001b[39m.\u001b[39;49mcolumns\u001b[39m.\u001b[39;49mget_loc(key)\n\u001b[1;32m   3762\u001b[0m \u001b[39mif\u001b[39;00m is_integer(indexer):\n\u001b[1;32m   3763\u001b[0m     indexer \u001b[39m=\u001b[39m [indexer]\n",
      "File \u001b[0;32m~/repos/ml_project_mariusbosch/gas-fraud-team-crime/.venv/lib/python3.11/site-packages/pandas/core/indexes/base.py:3654\u001b[0m, in \u001b[0;36mIndex.get_loc\u001b[0;34m(self, key)\u001b[0m\n\u001b[1;32m   3652\u001b[0m     \u001b[39mreturn\u001b[39;00m \u001b[39mself\u001b[39m\u001b[39m.\u001b[39m_engine\u001b[39m.\u001b[39mget_loc(casted_key)\n\u001b[1;32m   3653\u001b[0m \u001b[39mexcept\u001b[39;00m \u001b[39mKeyError\u001b[39;00m \u001b[39mas\u001b[39;00m err:\n\u001b[0;32m-> 3654\u001b[0m     \u001b[39mraise\u001b[39;00m \u001b[39mKeyError\u001b[39;00m(key) \u001b[39mfrom\u001b[39;00m \u001b[39merr\u001b[39;00m\n\u001b[1;32m   3655\u001b[0m \u001b[39mexcept\u001b[39;00m \u001b[39mTypeError\u001b[39;00m:\n\u001b[1;32m   3656\u001b[0m     \u001b[39m# If we have a listlike key, _check_indexing_error will raise\u001b[39;00m\n\u001b[1;32m   3657\u001b[0m     \u001b[39m#  InvalidIndexError. Otherwise we fall through and re-raise\u001b[39;00m\n\u001b[1;32m   3658\u001b[0m     \u001b[39m#  the TypeError.\u001b[39;00m\n\u001b[1;32m   3659\u001b[0m     \u001b[39mself\u001b[39m\u001b[39m.\u001b[39m_check_indexing_error(key)\n",
      "\u001b[0;31mKeyError\u001b[0m: 'target'"
     ]
    }
   ],
   "source": [
    "'''# Correlation before and after resampling\n",
    "\n",
    "# correlation of target with features BEFORE resampling\n",
    "\n",
    "df_corr_unsampled = df_combined_encoded\n",
    "df_corr_unsampled.corr()['target'].sort_values(ascending=False)\n",
    "plt.figure(figsize=(10,10))\n",
    "sns.heatmap(df_corr_unsampled.corr().round(2), annot=True, cmap='coolwarm')\n",
    "plt.show()\n",
    "\n",
    "# correlation of target with features after resampling\n",
    "\n",
    "df_corr_sampled = df_combined_encoded\n",
    "df_corr_sampled.corr()['target'].sort_values(ascending=False)\n",
    "plt.figure(figsize=(10,10))\n",
    "sns.heatmap(df_corr_sampled.corr().round(2), annot=True, cmap='coolwarm')\n",
    "plt.show()'''"
   ]
  },
  {
   "cell_type": "code",
   "execution_count": null,
   "metadata": {},
   "outputs": [],
   "source": [
    "# test decision tree "
   ]
  },
  {
   "cell_type": "code",
   "execution_count": null,
   "metadata": {},
   "outputs": [],
   "source": [
    "# Scaling"
   ]
  },
  {
   "cell_type": "code",
   "execution_count": null,
   "metadata": {},
   "outputs": [],
   "source": [
    "# Re-reconvert to datetime"
   ]
  },
  {
   "cell_type": "code",
   "execution_count": null,
   "metadata": {},
   "outputs": [],
   "source": [
    "# safe X_train_resampled to import in other notebooks"
   ]
  }
 ],
 "metadata": {
  "kernelspec": {
   "display_name": ".venv",
   "language": "python",
   "name": "python3"
  },
  "language_info": {
   "codemirror_mode": {
    "name": "ipython",
    "version": 3
   },
   "file_extension": ".py",
   "mimetype": "text/x-python",
   "name": "python",
   "nbconvert_exporter": "python",
   "pygments_lexer": "ipython3",
   "version": "3.11.3"
  },
  "orig_nbformat": 4
 },
 "nbformat": 4,
 "nbformat_minor": 2
}
