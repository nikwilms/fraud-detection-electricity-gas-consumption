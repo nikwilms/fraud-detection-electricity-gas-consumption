{
 "cells": [
  {
   "cell_type": "code",
   "execution_count": 1041,
   "metadata": {},
   "outputs": [],
   "source": [
    "# Import of relevant packages\n",
    "import numpy as np\n",
    "import pandas as pd\n",
    "import warnings\n",
    "import matplotlib.pyplot as plt\n",
    "import seaborn as sns\n",
    "\n",
    "from sklearn.pipeline import Pipeline\n",
    "from sklearn.compose import ColumnTransformer\n",
    "from sklearn.preprocessing import OneHotEncoder, StandardScaler\n",
    "from sklearn.impute import SimpleImputer\n",
    "from sklearn.model_selection import train_test_split\n",
    "from sklearn.model_selection import GridSearchCV\n",
    "from sklearn.model_selection import cross_val_predict\n",
    "from sklearn.metrics import accuracy_score, recall_score, precision_score, roc_auc_score, roc_curve, confusion_matrix, classification_report, f1_score\n",
    "\n",
    "from sklearn.linear_model import LogisticRegression\n",
    "from imblearn.over_sampling import SMOTE\n",
    "# Set random seed \n",
    "RSEED = 42\n",
    "warnings.filterwarnings(\"ignore\")"
   ]
  },
  {
   "cell_type": "code",
   "execution_count": 1042,
   "metadata": {},
   "outputs": [],
   "source": [
    "import pickle\n",
    "with open('../data/data_test.pkl', 'rb') as f:\n",
    "    data = pickle.load(f)"
   ]
  },
  {
   "cell_type": "code",
   "execution_count": 1043,
   "metadata": {},
   "outputs": [
    {
     "data": {
      "text/plain": [
       "dict_keys(['X_train', 'X_test', 'y_train', 'y_test', 'df_combined', 'df_combined_encoded', 'X_train_resampled', 'y_train_resampled'])"
      ]
     },
     "execution_count": 1043,
     "metadata": {},
     "output_type": "execute_result"
    }
   ],
   "source": [
    "data.keys()"
   ]
  },
  {
   "cell_type": "code",
   "execution_count": 1044,
   "metadata": {},
   "outputs": [],
   "source": [
    "X_train = data[\"X_train\"]\n",
    "X_test = data[\"X_test\"]\n",
    "y_train = data[\"y_train\"]\n",
    "y_test =  data[\"y_test\"]\n",
    "df_combined =  data[\"df_combined\"]\n",
    "df_combined_encoded = data[\"df_combined_encoded\"]\n",
    "X_train_resampled = data[\"X_train_resampled\"]\n",
    "y_train_resampled = data[\"y_train_resampled\"]"
   ]
  },
  {
   "cell_type": "code",
   "execution_count": 1045,
   "metadata": {},
   "outputs": [
    {
     "name": "stdout",
     "output_type": "stream",
     "text": [
      "X_train shape: (104496, 106)\n",
      "X_test shape: (26124, 106)\n",
      "y_train shape: (104496,)\n",
      "y_test shape: (26124,)\n"
     ]
    }
   ],
   "source": [
    "print('X_train shape:', X_train.shape)\n",
    "print('X_test shape:', X_test.shape)\n",
    "print('y_train shape:', y_train.shape)\n",
    "print('y_test shape:', y_test.shape)"
   ]
  },
  {
   "cell_type": "code",
   "execution_count": 1046,
   "metadata": {},
   "outputs": [],
   "source": [
    "#drop columns which are twice in the dataset\n",
    "#X_train = X_train.loc[:, ~X_train.columns.duplicated()]\n",
    "#X_test = X_test.loc[:, ~X_test.columns.duplicated()]"
   ]
  },
  {
   "cell_type": "code",
   "execution_count": 1047,
   "metadata": {},
   "outputs": [
    {
     "data": {
      "text/plain": [
       "counter_statue_5      2\n",
       "counter_statue_1      2\n",
       "counter_statue_4      2\n",
       "counter_code_201.0    1\n",
       "counter_code_305.0    1\n",
       "                     ..\n",
       "region_312            1\n",
       "region_311            1\n",
       "region_310            1\n",
       "region_309            1\n",
       "counter_type_GAZ      1\n",
       "Name: count, Length: 103, dtype: int64"
      ]
     },
     "execution_count": 1047,
     "metadata": {},
     "output_type": "execute_result"
    }
   ],
   "source": [
    "X_train.columns.value_counts()"
   ]
  },
  {
   "cell_type": "code",
   "execution_count": 1048,
   "metadata": {},
   "outputs": [
    {
     "data": {
      "text/html": [
       "<div>\n",
       "<style scoped>\n",
       "    .dataframe tbody tr th:only-of-type {\n",
       "        vertical-align: middle;\n",
       "    }\n",
       "\n",
       "    .dataframe tbody tr th {\n",
       "        vertical-align: top;\n",
       "    }\n",
       "\n",
       "    .dataframe thead th {\n",
       "        text-align: right;\n",
       "    }\n",
       "</style>\n",
       "<table border=\"1\" class=\"dataframe\">\n",
       "  <thead>\n",
       "    <tr style=\"text-align: right;\">\n",
       "      <th></th>\n",
       "      <th>district</th>\n",
       "      <th>client_catg</th>\n",
       "      <th>region</th>\n",
       "      <th>creation_date</th>\n",
       "      <th>target</th>\n",
       "      <th>months_number</th>\n",
       "      <th>invoice_date</th>\n",
       "      <th>counter_coefficient</th>\n",
       "      <th>tarif_type</th>\n",
       "      <th>counter_statue</th>\n",
       "      <th>counter_code</th>\n",
       "      <th>reading_remarque</th>\n",
       "      <th>counter_type</th>\n",
       "      <th>consommation_level_1</th>\n",
       "      <th>consommation_level_2</th>\n",
       "      <th>consommation_level_3</th>\n",
       "      <th>consommation_level_4</th>\n",
       "    </tr>\n",
       "  </thead>\n",
       "  <tbody>\n",
       "    <tr>\n",
       "      <th>0</th>\n",
       "      <td>60</td>\n",
       "      <td>11</td>\n",
       "      <td>101</td>\n",
       "      <td>1994-12-31</td>\n",
       "      <td>0.0</td>\n",
       "      <td>4.628571</td>\n",
       "      <td>2011-09-02 18:30:51.428571392</td>\n",
       "      <td>1.0</td>\n",
       "      <td>11.0</td>\n",
       "      <td>0</td>\n",
       "      <td>203.0</td>\n",
       "      <td>6.0</td>\n",
       "      <td>ELEC</td>\n",
       "      <td>76.135802</td>\n",
       "      <td>2.283951</td>\n",
       "      <td>0.000000</td>\n",
       "      <td>0.000000</td>\n",
       "    </tr>\n",
       "    <tr>\n",
       "      <th>1</th>\n",
       "      <td>69</td>\n",
       "      <td>11</td>\n",
       "      <td>107</td>\n",
       "      <td>2002-05-29</td>\n",
       "      <td>0.0</td>\n",
       "      <td>4.324324</td>\n",
       "      <td>2012-03-20 20:45:24.324324352</td>\n",
       "      <td>1.0</td>\n",
       "      <td>11.0</td>\n",
       "      <td>0</td>\n",
       "      <td>203.0</td>\n",
       "      <td>6.0</td>\n",
       "      <td>ELEC</td>\n",
       "      <td>128.931250</td>\n",
       "      <td>0.000000</td>\n",
       "      <td>0.000000</td>\n",
       "      <td>0.000000</td>\n",
       "    </tr>\n",
       "    <tr>\n",
       "      <th>2</th>\n",
       "      <td>62</td>\n",
       "      <td>11</td>\n",
       "      <td>301</td>\n",
       "      <td>1986-03-13</td>\n",
       "      <td>0.0</td>\n",
       "      <td>6.444444</td>\n",
       "      <td>2011-06-11 05:20:00.000000000</td>\n",
       "      <td>1.0</td>\n",
       "      <td>11.0</td>\n",
       "      <td>0</td>\n",
       "      <td>203.0</td>\n",
       "      <td>6.0</td>\n",
       "      <td>ELEC</td>\n",
       "      <td>123.922414</td>\n",
       "      <td>5.879310</td>\n",
       "      <td>0.000000</td>\n",
       "      <td>0.000000</td>\n",
       "    </tr>\n",
       "    <tr>\n",
       "      <th>3</th>\n",
       "      <td>69</td>\n",
       "      <td>11</td>\n",
       "      <td>105</td>\n",
       "      <td>1996-07-11</td>\n",
       "      <td>0.0</td>\n",
       "      <td>4.200000</td>\n",
       "      <td>2009-01-07 18:00:00.000000000</td>\n",
       "      <td>1.0</td>\n",
       "      <td>11.0</td>\n",
       "      <td>0</td>\n",
       "      <td>413.0</td>\n",
       "      <td>6.0</td>\n",
       "      <td>ELEC</td>\n",
       "      <td>0.285714</td>\n",
       "      <td>0.000000</td>\n",
       "      <td>0.000000</td>\n",
       "      <td>0.000000</td>\n",
       "    </tr>\n",
       "    <tr>\n",
       "      <th>4</th>\n",
       "      <td>62</td>\n",
       "      <td>11</td>\n",
       "      <td>303</td>\n",
       "      <td>2014-10-14</td>\n",
       "      <td>0.0</td>\n",
       "      <td>3.714286</td>\n",
       "      <td>2017-06-04 01:42:51.428571392</td>\n",
       "      <td>1.0</td>\n",
       "      <td>11.0</td>\n",
       "      <td>0</td>\n",
       "      <td>207.0</td>\n",
       "      <td>9.0</td>\n",
       "      <td>ELEC</td>\n",
       "      <td>178.692308</td>\n",
       "      <td>28.230769</td>\n",
       "      <td>31.596154</td>\n",
       "      <td>9.884615</td>\n",
       "    </tr>\n",
       "  </tbody>\n",
       "</table>\n",
       "</div>"
      ],
      "text/plain": [
       "  district client_catg region creation_date  target  months_number   \n",
       "0       60          11    101    1994-12-31     0.0       4.628571  \\\n",
       "1       69          11    107    2002-05-29     0.0       4.324324   \n",
       "2       62          11    301    1986-03-13     0.0       6.444444   \n",
       "3       69          11    105    1996-07-11     0.0       4.200000   \n",
       "4       62          11    303    2014-10-14     0.0       3.714286   \n",
       "\n",
       "                   invoice_date  counter_coefficient tarif_type   \n",
       "0 2011-09-02 18:30:51.428571392                  1.0       11.0  \\\n",
       "1 2012-03-20 20:45:24.324324352                  1.0       11.0   \n",
       "2 2011-06-11 05:20:00.000000000                  1.0       11.0   \n",
       "3 2009-01-07 18:00:00.000000000                  1.0       11.0   \n",
       "4 2017-06-04 01:42:51.428571392                  1.0       11.0   \n",
       "\n",
       "  counter_statue counter_code reading_remarque counter_type   \n",
       "0              0        203.0              6.0         ELEC  \\\n",
       "1              0        203.0              6.0         ELEC   \n",
       "2              0        203.0              6.0         ELEC   \n",
       "3              0        413.0              6.0         ELEC   \n",
       "4              0        207.0              9.0         ELEC   \n",
       "\n",
       "   consommation_level_1  consommation_level_2  consommation_level_3   \n",
       "0             76.135802              2.283951              0.000000  \\\n",
       "1            128.931250              0.000000              0.000000   \n",
       "2            123.922414              5.879310              0.000000   \n",
       "3              0.285714              0.000000              0.000000   \n",
       "4            178.692308             28.230769             31.596154   \n",
       "\n",
       "   consommation_level_4  \n",
       "0              0.000000  \n",
       "1              0.000000  \n",
       "2              0.000000  \n",
       "3              0.000000  \n",
       "4              9.884615  "
      ]
     },
     "execution_count": 1048,
     "metadata": {},
     "output_type": "execute_result"
    }
   ],
   "source": [
    "\n",
    "#drop client id\n",
    "df_combined = df_combined.drop(['client_id'], axis=1)\n",
    "df_combined.head()"
   ]
  },
  {
   "cell_type": "code",
   "execution_count": 1049,
   "metadata": {},
   "outputs": [
    {
     "data": {
      "text/plain": [
       "client_id                  object\n",
       "creation_date               int64\n",
       "target                    float64\n",
       "months_number             float64\n",
       "invoice_date                int64\n",
       "                           ...   \n",
       "reading_remarque_8.0         bool\n",
       "reading_remarque_9.0         bool\n",
       "reading_remarque_203.0       bool\n",
       "reading_remarque_413.0       bool\n",
       "counter_type_GAZ             bool\n",
       "Length: 108, dtype: object"
      ]
     },
     "execution_count": 1049,
     "metadata": {},
     "output_type": "execute_result"
    }
   ],
   "source": [
    "df_combined_encoded.dtypes"
   ]
  },
  {
   "cell_type": "code",
   "execution_count": 1050,
   "metadata": {},
   "outputs": [],
   "source": [
    "#num_features = list(df_combined.columns[df_combined.dtypes == 'float64'])\n",
    "#num_features.remove('target')\n",
    "#num_features"
   ]
  },
  {
   "cell_type": "code",
   "execution_count": 1051,
   "metadata": {},
   "outputs": [
    {
     "data": {
      "text/plain": [
       "district                      category\n",
       "client_catg                   category\n",
       "region                        category\n",
       "creation_date           datetime64[ns]\n",
       "target                         float64\n",
       "months_number                  float64\n",
       "invoice_date            datetime64[ns]\n",
       "counter_coefficient            float64\n",
       "tarif_type                    category\n",
       "counter_statue                category\n",
       "counter_code                  category\n",
       "reading_remarque              category\n",
       "counter_type                  category\n",
       "consommation_level_1           float64\n",
       "consommation_level_2           float64\n",
       "consommation_level_3           float64\n",
       "consommation_level_4           float64\n",
       "dtype: object"
      ]
     },
     "execution_count": 1051,
     "metadata": {},
     "output_type": "execute_result"
    }
   ],
   "source": [
    "df_combined.dtypes"
   ]
  },
  {
   "cell_type": "code",
   "execution_count": 1052,
   "metadata": {},
   "outputs": [],
   "source": [
    "#cat_features = list(df_combined_encoded.columns[df_combined_encoded.dtypes == 'bool'])\n",
    "\n",
    "#cat_features\n"
   ]
  },
  {
   "cell_type": "markdown",
   "metadata": {},
   "source": [
    "### Logistic Regression"
   ]
  },
  {
   "cell_type": "code",
   "execution_count": 1085,
   "metadata": {},
   "outputs": [],
   "source": [
    "# use standard scaler for numerical features\n",
    "scaler = StandardScaler()\n",
    "X_train_scaled = scaler.fit_transform(X_train)\n",
    "X_test_scaled = scaler.transform(X_test)\n",
    "X_train_resampled_scaled = scaler.fit_transform(X_train_resampled)\n",
    "\n"
   ]
  },
  {
   "cell_type": "code",
   "execution_count": 1054,
   "metadata": {},
   "outputs": [],
   "source": [
    "# logistic regression model\n",
    "logreg = LogisticRegression(random_state=RSEED, max_iter=1000)\n"
   ]
  },
  {
   "cell_type": "code",
   "execution_count": 1055,
   "metadata": {},
   "outputs": [],
   "source": [
    "y_train_pred = cross_val_predict(logreg, X_train_scaled, y_train, cv=5)"
   ]
  },
  {
   "cell_type": "code",
   "execution_count": 1056,
   "metadata": {},
   "outputs": [
    {
     "name": "stdout",
     "output_type": "stream",
     "text": [
      "Cross validation scores y_train:\n",
      "-------------------------\n",
      "Accuracy: 0.95\n",
      "Recall: 0.00\n",
      "Precision: 0.39\n",
      "AUC: 0.50\n",
      "F1: 0.01\n"
     ]
    }
   ],
   "source": [
    "# Calculating the accuracy for the LogisticRegression Classifier \n",
    "print('Cross validation scores y_train:')\n",
    "print('-------------------------')\n",
    "print(\"Accuracy: {:.2f}\".format(accuracy_score(y_train, y_train_pred)))\n",
    "print(\"Recall: {:.2f}\".format(recall_score(y_train, y_train_pred)))\n",
    "print(\"Precision: {:.2f}\".format(precision_score(y_train, y_train_pred)))\n",
    "print(\"AUC: {:.2f}\".format(roc_auc_score(y_train, y_train_pred)))\n",
    "print(\"F1: {:.2f}\".format(f1_score(y_train, y_train_pred)))\n"
   ]
  },
  {
   "cell_type": "code",
   "execution_count": 1075,
   "metadata": {},
   "outputs": [],
   "source": [
    "param_logreg = {'C': [0.001, 0.01],\n",
    "                'penalty': ['l1', 'l2'],\n",
    "                'solver': ['liblinear', 'saga'],\n",
    "                'class_weight': ['balanced',{0: 1, 1: 20}\n",
    "]\n",
    "               }\n",
    "\n",
    "grid_logreg = GridSearchCV(logreg, param_logreg, cv=5, scoring='roc_auc', verbose=5, n_jobs=-1)"
   ]
  },
  {
   "cell_type": "code",
   "execution_count": 1076,
   "metadata": {},
   "outputs": [
    {
     "name": "stdout",
     "output_type": "stream",
     "text": [
      "Fitting 5 folds for each of 16 candidates, totalling 80 fits\n",
      "[CV 1/5] END C=0.001, class_weight=balanced, penalty=l1, solver=liblinear;, score=0.699 total time=   0.8s\n",
      "[CV 3/5] END C=0.001, class_weight=balanced, penalty=l1, solver=liblinear;, score=0.709 total time=   1.3s\n",
      "[CV 2/5] END C=0.001, class_weight=balanced, penalty=l1, solver=liblinear;, score=0.703 total time=   1.4s\n",
      "[CV 4/5] END C=0.001, class_weight=balanced, penalty=l1, solver=liblinear;, score=0.705 total time=   1.2s\n",
      "[CV 5/5] END C=0.001, class_weight=balanced, penalty=l1, solver=liblinear;, score=0.690 total time=   1.4s\n",
      "[CV 1/5] END C=0.001, class_weight=balanced, penalty=l2, solver=liblinear;, score=0.712 total time=   1.5s\n",
      "[CV 3/5] END C=0.001, class_weight=balanced, penalty=l2, solver=liblinear;, score=0.717 total time=   1.4s\n",
      "[CV 2/5] END C=0.001, class_weight=balanced, penalty=l2, solver=liblinear;, score=0.712 total time=   1.6s\n",
      "[CV 4/5] END C=0.001, class_weight=balanced, penalty=l2, solver=liblinear;, score=0.711 total time=   1.4s\n",
      "[CV 5/5] END C=0.001, class_weight=balanced, penalty=l2, solver=liblinear;, score=0.699 total time=   1.4s\n",
      "[CV 3/5] END C=0.001, class_weight=balanced, penalty=l1, solver=saga;, score=0.709 total time=  11.3s\n",
      "[CV 3/5] END C=0.001, class_weight=balanced, penalty=l2, solver=saga;, score=0.717 total time=  10.3s\n",
      "[CV 1/5] END C=0.001, class_weight=balanced, penalty=l2, solver=saga;, score=0.712 total time=  19.6s\n",
      "[CV 1/5] END C=0.001, class_weight={0: 1, 1: 20}, penalty=l1, solver=liblinear;, score=0.709 total time=   1.0s\n",
      "[CV 2/5] END C=0.001, class_weight=balanced, penalty=l1, solver=saga;, score=0.703 total time=  23.9s\n",
      "[CV 2/5] END C=0.001, class_weight=balanced, penalty=l2, solver=saga;, score=0.712 total time=  20.3s\n",
      "[CV 2/5] END C=0.001, class_weight={0: 1, 1: 20}, penalty=l1, solver=liblinear;, score=0.712 total time=   1.1s\n",
      "[CV 4/5] END C=0.001, class_weight=balanced, penalty=l1, solver=saga;, score=0.705 total time=  24.3s\n",
      "[CV 3/5] END C=0.001, class_weight={0: 1, 1: 20}, penalty=l1, solver=liblinear;, score=0.713 total time=   1.0s\n",
      "[CV 5/5] END C=0.001, class_weight=balanced, penalty=l1, solver=saga;, score=0.690 total time=  24.1s\n",
      "[CV 1/5] END C=0.001, class_weight=balanced, penalty=l1, solver=saga;, score=0.700 total time=  25.2s\n",
      "[CV 4/5] END C=0.001, class_weight={0: 1, 1: 20}, penalty=l1, solver=liblinear;, score=0.710 total time=   1.5s\n",
      "[CV 5/5] END C=0.001, class_weight={0: 1, 1: 20}, penalty=l1, solver=liblinear;, score=0.695 total time=   1.1s\n",
      "[CV 1/5] END C=0.001, class_weight={0: 1, 1: 20}, penalty=l2, solver=liblinear;, score=0.712 total time=   1.4s\n",
      "[CV 2/5] END C=0.001, class_weight={0: 1, 1: 20}, penalty=l2, solver=liblinear;, score=0.712 total time=   1.7s\n",
      "[CV 3/5] END C=0.001, class_weight={0: 1, 1: 20}, penalty=l2, solver=liblinear;, score=0.717 total time=   1.6s\n",
      "[CV 4/5] END C=0.001, class_weight={0: 1, 1: 20}, penalty=l2, solver=liblinear;, score=0.711 total time=   1.4s\n",
      "[CV 4/5] END C=0.001, class_weight=balanced, penalty=l2, solver=saga;, score=0.711 total time=  22.0s\n",
      "[CV 5/5] END C=0.001, class_weight={0: 1, 1: 20}, penalty=l2, solver=liblinear;, score=0.699 total time=   1.6s\n",
      "[CV 5/5] END C=0.001, class_weight=balanced, penalty=l2, solver=saga;, score=0.699 total time=  21.2s\n",
      "[CV 3/5] END C=0.001, class_weight={0: 1, 1: 20}, penalty=l1, solver=saga;, score=0.713 total time=  12.3s\n",
      "[CV 2/5] END C=0.001, class_weight={0: 1, 1: 20}, penalty=l1, solver=saga;, score=0.712 total time=  22.7s\n",
      "[CV 1/5] END C=0.001, class_weight={0: 1, 1: 20}, penalty=l2, solver=saga;, score=0.712 total time=  15.8s\n",
      "[CV 1/5] END C=0.001, class_weight={0: 1, 1: 20}, penalty=l1, solver=saga;, score=0.709 total time=  24.8s\n",
      "[CV 1/5] END C=0.01, class_weight=balanced, penalty=l1, solver=liblinear;, score=0.711 total time=   3.7s\n",
      "[CV 2/5] END C=0.01, class_weight=balanced, penalty=l1, solver=liblinear;, score=0.714 total time=   3.5s\n",
      "[CV 2/5] END C=0.001, class_weight={0: 1, 1: 20}, penalty=l2, solver=saga;, score=0.712 total time=  19.8s\n",
      "[CV 4/5] END C=0.001, class_weight={0: 1, 1: 20}, penalty=l2, solver=saga;, score=0.711 total time=  17.0s\n",
      "[CV 4/5] END C=0.001, class_weight={0: 1, 1: 20}, penalty=l1, solver=saga;, score=0.710 total time=  29.3s\n",
      "[CV 3/5] END C=0.01, class_weight=balanced, penalty=l1, solver=liblinear;, score=0.716 total time=   2.8s\n",
      "[CV 4/5] END C=0.01, class_weight=balanced, penalty=l1, solver=liblinear;, score=0.710 total time=   3.0s\n",
      "[CV 5/5] END C=0.001, class_weight={0: 1, 1: 20}, penalty=l1, solver=saga;, score=0.695 total time=  30.7s\n",
      "[CV 5/5] END C=0.01, class_weight=balanced, penalty=l1, solver=liblinear;, score=0.699 total time=   3.3s\n",
      "[CV 1/5] END C=0.01, class_weight=balanced, penalty=l2, solver=liblinear;, score=0.712 total time=   2.6s\n",
      "[CV 2/5] END C=0.01, class_weight=balanced, penalty=l2, solver=liblinear;, score=0.712 total time=   2.8s\n",
      "[CV 3/5] END C=0.001, class_weight={0: 1, 1: 20}, penalty=l2, solver=saga;, score=0.717 total time=  27.9s\n",
      "[CV 3/5] END C=0.01, class_weight=balanced, penalty=l2, solver=liblinear;, score=0.716 total time=   2.3s\n",
      "[CV 5/5] END C=0.001, class_weight={0: 1, 1: 20}, penalty=l2, solver=saga;, score=0.699 total time=  17.5s\n",
      "[CV 4/5] END C=0.01, class_weight=balanced, penalty=l2, solver=liblinear;, score=0.710 total time=   3.1s\n",
      "[CV 5/5] END C=0.01, class_weight=balanced, penalty=l2, solver=liblinear;, score=0.699 total time=   3.0s\n",
      "[CV 3/5] END C=0.01, class_weight=balanced, penalty=l1, solver=saga;, score=0.716 total time=  36.5s\n",
      "[CV 1/5] END C=0.01, class_weight=balanced, penalty=l2, solver=saga;, score=0.712 total time=  37.8s\n",
      "[CV 2/5] END C=0.01, class_weight=balanced, penalty=l2, solver=saga;, score=0.712 total time=  45.9s\n",
      "[CV 2/5] END C=0.01, class_weight=balanced, penalty=l1, solver=saga;, score=0.714 total time= 1.0min\n",
      "[CV 1/5] END C=0.01, class_weight={0: 1, 1: 20}, penalty=l1, solver=liblinear;, score=0.711 total time=   7.3s\n",
      "[CV 2/5] END C=0.01, class_weight={0: 1, 1: 20}, penalty=l1, solver=liblinear;, score=0.713 total time=   6.3s\n",
      "[CV 3/5] END C=0.01, class_weight={0: 1, 1: 20}, penalty=l1, solver=liblinear;, score=0.716 total time=   4.4s\n",
      "[CV 5/5] END C=0.01, class_weight={0: 1, 1: 20}, penalty=l1, solver=liblinear;, score=0.699 total time=   5.9s\n",
      "[CV 4/5] END C=0.01, class_weight={0: 1, 1: 20}, penalty=l1, solver=liblinear;, score=0.710 total time=   7.8s\n",
      "[CV 3/5] END C=0.01, class_weight=balanced, penalty=l2, solver=saga;, score=0.716 total time= 1.1min\n",
      "[CV 4/5] END C=0.01, class_weight=balanced, penalty=l2, solver=saga;, score=0.710 total time=  41.1s\n",
      "[CV 4/5] END C=0.01, class_weight=balanced, penalty=l1, solver=saga;, score=0.710 total time= 1.4min\n",
      "[CV 5/5] END C=0.01, class_weight=balanced, penalty=l2, solver=saga;, score=0.699 total time=  40.5s\n",
      "[CV 1/5] END C=0.01, class_weight=balanced, penalty=l1, solver=saga;, score=0.711 total time= 1.5min\n",
      "[CV 1/5] END C=0.01, class_weight={0: 1, 1: 20}, penalty=l2, solver=liblinear;, score=0.712 total time=   3.4s\n",
      "[CV 2/5] END C=0.01, class_weight={0: 1, 1: 20}, penalty=l2, solver=liblinear;, score=0.712 total time=   3.7s\n",
      "[CV 3/5] END C=0.01, class_weight={0: 1, 1: 20}, penalty=l2, solver=liblinear;, score=0.716 total time=   3.1s\n",
      "[CV 4/5] END C=0.01, class_weight={0: 1, 1: 20}, penalty=l2, solver=liblinear;, score=0.710 total time=   3.6s\n",
      "[CV 5/5] END C=0.01, class_weight=balanced, penalty=l1, solver=saga;, score=0.699 total time= 1.6min\n",
      "[CV 5/5] END C=0.01, class_weight={0: 1, 1: 20}, penalty=l2, solver=liblinear;, score=0.699 total time=   3.7s\n",
      "[CV 3/5] END C=0.01, class_weight={0: 1, 1: 20}, penalty=l1, solver=saga;, score=0.716 total time=  41.8s\n",
      "[CV 1/5] END C=0.01, class_weight={0: 1, 1: 20}, penalty=l2, solver=saga;, score=0.712 total time=  37.8s\n",
      "[CV 2/5] END C=0.01, class_weight={0: 1, 1: 20}, penalty=l2, solver=saga;, score=0.712 total time=  38.0s\n",
      "[CV 2/5] END C=0.01, class_weight={0: 1, 1: 20}, penalty=l1, solver=saga;, score=0.713 total time= 1.0min\n",
      "[CV 1/5] END C=0.01, class_weight={0: 1, 1: 20}, penalty=l1, solver=saga;, score=0.711 total time= 1.3min\n",
      "[CV 4/5] END C=0.01, class_weight={0: 1, 1: 20}, penalty=l2, solver=saga;, score=0.710 total time=  35.3s\n",
      "[CV 4/5] END C=0.01, class_weight={0: 1, 1: 20}, penalty=l1, solver=saga;, score=0.710 total time= 1.3min\n",
      "[CV 5/5] END C=0.01, class_weight={0: 1, 1: 20}, penalty=l2, solver=saga;, score=0.699 total time=  28.8s\n",
      "[CV 5/5] END C=0.01, class_weight={0: 1, 1: 20}, penalty=l1, solver=saga;, score=0.699 total time= 1.4min\n",
      "[CV 3/5] END C=0.01, class_weight={0: 1, 1: 20}, penalty=l2, solver=saga;, score=0.716 total time= 1.3min\n"
     ]
    }
   ],
   "source": [
    "grid_imbalanced = grid_logreg.fit(X_train_scaled, y_train)"
   ]
  },
  {
   "cell_type": "code",
   "execution_count": 1077,
   "metadata": {},
   "outputs": [
    {
     "name": "stdout",
     "output_type": "stream",
     "text": [
      "Best score:\n",
      "0.71\n",
      "Best parameters:\n",
      "{'C': 0.001, 'class_weight': 'balanced', 'penalty': 'l2', 'solver': 'liblinear'}\n"
     ]
    }
   ],
   "source": [
    "# Show best parameters\n",
    "print('Best score:\\n{:.2f}'.format(grid_imbalanced.best_score_))\n",
    "print(\"Best parameters:\\n{}\".format(grid_imbalanced.best_params_))"
   ]
  },
  {
   "cell_type": "code",
   "execution_count": 1078,
   "metadata": {},
   "outputs": [
    {
     "data": {
      "text/html": [
       "<style>#sk-container-id-35 {color: black;background-color: white;}#sk-container-id-35 pre{padding: 0;}#sk-container-id-35 div.sk-toggleable {background-color: white;}#sk-container-id-35 label.sk-toggleable__label {cursor: pointer;display: block;width: 100%;margin-bottom: 0;padding: 0.3em;box-sizing: border-box;text-align: center;}#sk-container-id-35 label.sk-toggleable__label-arrow:before {content: \"▸\";float: left;margin-right: 0.25em;color: #696969;}#sk-container-id-35 label.sk-toggleable__label-arrow:hover:before {color: black;}#sk-container-id-35 div.sk-estimator:hover label.sk-toggleable__label-arrow:before {color: black;}#sk-container-id-35 div.sk-toggleable__content {max-height: 0;max-width: 0;overflow: hidden;text-align: left;background-color: #f0f8ff;}#sk-container-id-35 div.sk-toggleable__content pre {margin: 0.2em;color: black;border-radius: 0.25em;background-color: #f0f8ff;}#sk-container-id-35 input.sk-toggleable__control:checked~div.sk-toggleable__content {max-height: 200px;max-width: 100%;overflow: auto;}#sk-container-id-35 input.sk-toggleable__control:checked~label.sk-toggleable__label-arrow:before {content: \"▾\";}#sk-container-id-35 div.sk-estimator input.sk-toggleable__control:checked~label.sk-toggleable__label {background-color: #d4ebff;}#sk-container-id-35 div.sk-label input.sk-toggleable__control:checked~label.sk-toggleable__label {background-color: #d4ebff;}#sk-container-id-35 input.sk-hidden--visually {border: 0;clip: rect(1px 1px 1px 1px);clip: rect(1px, 1px, 1px, 1px);height: 1px;margin: -1px;overflow: hidden;padding: 0;position: absolute;width: 1px;}#sk-container-id-35 div.sk-estimator {font-family: monospace;background-color: #f0f8ff;border: 1px dotted black;border-radius: 0.25em;box-sizing: border-box;margin-bottom: 0.5em;}#sk-container-id-35 div.sk-estimator:hover {background-color: #d4ebff;}#sk-container-id-35 div.sk-parallel-item::after {content: \"\";width: 100%;border-bottom: 1px solid gray;flex-grow: 1;}#sk-container-id-35 div.sk-label:hover label.sk-toggleable__label {background-color: #d4ebff;}#sk-container-id-35 div.sk-serial::before {content: \"\";position: absolute;border-left: 1px solid gray;box-sizing: border-box;top: 0;bottom: 0;left: 50%;z-index: 0;}#sk-container-id-35 div.sk-serial {display: flex;flex-direction: column;align-items: center;background-color: white;padding-right: 0.2em;padding-left: 0.2em;position: relative;}#sk-container-id-35 div.sk-item {position: relative;z-index: 1;}#sk-container-id-35 div.sk-parallel {display: flex;align-items: stretch;justify-content: center;background-color: white;position: relative;}#sk-container-id-35 div.sk-item::before, #sk-container-id-35 div.sk-parallel-item::before {content: \"\";position: absolute;border-left: 1px solid gray;box-sizing: border-box;top: 0;bottom: 0;left: 50%;z-index: -1;}#sk-container-id-35 div.sk-parallel-item {display: flex;flex-direction: column;z-index: 1;position: relative;background-color: white;}#sk-container-id-35 div.sk-parallel-item:first-child::after {align-self: flex-end;width: 50%;}#sk-container-id-35 div.sk-parallel-item:last-child::after {align-self: flex-start;width: 50%;}#sk-container-id-35 div.sk-parallel-item:only-child::after {width: 0;}#sk-container-id-35 div.sk-dashed-wrapped {border: 1px dashed gray;margin: 0 0.4em 0.5em 0.4em;box-sizing: border-box;padding-bottom: 0.4em;background-color: white;}#sk-container-id-35 div.sk-label label {font-family: monospace;font-weight: bold;display: inline-block;line-height: 1.2em;}#sk-container-id-35 div.sk-label-container {text-align: center;}#sk-container-id-35 div.sk-container {/* jupyter's `normalize.less` sets `[hidden] { display: none; }` but bootstrap.min.css set `[hidden] { display: none !important; }` so we also need the `!important` here to be able to override the default hidden behavior on the sphinx rendered scikit-learn.org. See: https://github.com/scikit-learn/scikit-learn/issues/21755 */display: inline-block !important;position: relative;}#sk-container-id-35 div.sk-text-repr-fallback {display: none;}</style><div id=\"sk-container-id-35\" class=\"sk-top-container\"><div class=\"sk-text-repr-fallback\"><pre>LogisticRegression(C=0.001, class_weight=&#x27;balanced&#x27;, max_iter=1000,\n",
       "                   random_state=42, solver=&#x27;liblinear&#x27;)</pre><b>In a Jupyter environment, please rerun this cell to show the HTML representation or trust the notebook. <br />On GitHub, the HTML representation is unable to render, please try loading this page with nbviewer.org.</b></div><div class=\"sk-container\" hidden><div class=\"sk-item\"><div class=\"sk-estimator sk-toggleable\"><input class=\"sk-toggleable__control sk-hidden--visually\" id=\"sk-estimator-id-123\" type=\"checkbox\" checked><label for=\"sk-estimator-id-123\" class=\"sk-toggleable__label sk-toggleable__label-arrow\">LogisticRegression</label><div class=\"sk-toggleable__content\"><pre>LogisticRegression(C=0.001, class_weight=&#x27;balanced&#x27;, max_iter=1000,\n",
       "                   random_state=42, solver=&#x27;liblinear&#x27;)</pre></div></div></div></div></div>"
      ],
      "text/plain": [
       "LogisticRegression(C=0.001, class_weight='balanced', max_iter=1000,\n",
       "                   random_state=42, solver='liblinear')"
      ]
     },
     "execution_count": 1078,
     "metadata": {},
     "output_type": "execute_result"
    }
   ],
   "source": [
    "# Save best model (including fitted preprocessing steps) as best_model \n",
    "best_model_imbalanced = grid_imbalanced.best_estimator_\n",
    "best_model_imbalanced"
   ]
  },
  {
   "cell_type": "code",
   "execution_count": 1079,
   "metadata": {},
   "outputs": [
    {
     "name": "stdout",
     "output_type": "stream",
     "text": [
      "Best Log-Reg Model scores y_train:\n",
      "-------------------------\n",
      "Accuracy: 0.64\n",
      "Recall: 0.69\n",
      "Precision: 0.10\n",
      "AUC: 0.72\n",
      "F1: 0.17\n"
     ]
    }
   ],
   "source": [
    "# Calculating the accuracy, recall and precision for the test set with the optimized model\n",
    "y_test_imba_pred = best_model_imbalanced.predict(X_test_scaled)\n",
    "y_test_imba_pred_proba = best_model_imbalanced.predict_proba(X_test_scaled)[:,1]\n",
    "\n",
    "print('Best Log-Reg Model scores y_train:')\n",
    "print('-------------------------')\n",
    "print(\"Accuracy: {:.2f}\".format(accuracy_score(y_test, y_test_imba_pred)))\n",
    "print(\"Recall: {:.2f}\".format(recall_score(y_test, y_test_imba_pred)))\n",
    "print(\"Precision: {:.2f}\".format(precision_score(y_test, y_test_imba_pred)))\n",
    "print(\"AUC: {:.2f}\".format(roc_auc_score(y_test, y_test_imba_pred_proba)))\n",
    "print(\"F1: {:.2f}\".format(f1_score(y_test, y_test_imba_pred)))"
   ]
  },
  {
   "cell_type": "markdown",
   "metadata": {},
   "source": [
    "### Resampled"
   ]
  },
  {
   "cell_type": "code",
   "execution_count": 1086,
   "metadata": {},
   "outputs": [],
   "source": [
    "y_train_resampled_pred = cross_val_predict(logreg, X_train_resampled_scaled, y_train_resampled, cv=5)"
   ]
  },
  {
   "cell_type": "code",
   "execution_count": 1087,
   "metadata": {},
   "outputs": [
    {
     "name": "stdout",
     "output_type": "stream",
     "text": [
      "Cross validation scores y_train_resampled:\n",
      "-------------------------\n",
      "Accuracy: 0.91\n",
      "Recall: 0.85\n",
      "Precision: 0.97\n",
      "AUC: 0.91\n",
      "F1: 0.90\n"
     ]
    }
   ],
   "source": [
    "# Calculating the accuracy for the LogisticRegression Classifier \n",
    "print('Cross validation scores y_train_resampled:')\n",
    "print('-------------------------')\n",
    "print(\"Accuracy: {:.2f}\".format(accuracy_score(y_train_resampled, y_train_resampled_pred)))\n",
    "print(\"Recall: {:.2f}\".format(recall_score(y_train_resampled, y_train_resampled_pred)))\n",
    "print(\"Precision: {:.2f}\".format(precision_score(y_train_resampled, y_train_resampled_pred)))\n",
    "print(\"AUC: {:.2f}\".format(roc_auc_score(y_train_resampled, y_train_resampled_pred)))\n",
    "print(\"F1: {:.2f}\".format(f1_score(y_train_resampled, y_train_resampled_pred)))"
   ]
  },
  {
   "cell_type": "code",
   "execution_count": 1088,
   "metadata": {},
   "outputs": [
    {
     "name": "stdout",
     "output_type": "stream",
     "text": [
      "Fitting 5 folds for each of 16 candidates, totalling 80 fits\n"
     ]
    },
    {
     "name": "stdout",
     "output_type": "stream",
     "text": [
      "[CV 1/5] END C=0.001, class_weight=balanced, penalty=l1, solver=liblinear;, score=0.883 total time=   6.8s\n",
      "[CV 3/5] END C=0.001, class_weight=balanced, penalty=l1, solver=liblinear;, score=0.973 total time=   7.0s\n",
      "[CV 4/5] END C=0.001, class_weight=balanced, penalty=l1, solver=liblinear;, score=0.971 total time=   7.0s\n",
      "[CV 5/5] END C=0.001, class_weight=balanced, penalty=l1, solver=liblinear;, score=0.972 total time=   7.0s\n",
      "[CV 2/5] END C=0.001, class_weight=balanced, penalty=l1, solver=liblinear;, score=0.972 total time=   7.2s\n",
      "[CV 1/5] END C=0.001, class_weight=balanced, penalty=l2, solver=liblinear;, score=0.886 total time=   2.0s\n",
      "[CV 2/5] END C=0.001, class_weight=balanced, penalty=l2, solver=liblinear;, score=0.974 total time=   2.2s\n",
      "[CV 3/5] END C=0.001, class_weight=balanced, penalty=l2, solver=liblinear;, score=0.976 total time=   2.3s\n",
      "[CV 4/5] END C=0.001, class_weight=balanced, penalty=l2, solver=liblinear;, score=0.974 total time=   2.4s\n",
      "[CV 5/5] END C=0.001, class_weight=balanced, penalty=l2, solver=liblinear;, score=0.974 total time=   2.4s\n",
      "[CV 3/5] END C=0.001, class_weight=balanced, penalty=l2, solver=saga;, score=0.976 total time=  51.0s\n",
      "[CV 3/5] END C=0.001, class_weight=balanced, penalty=l1, solver=saga;, score=0.973 total time= 1.5min\n",
      "[CV 1/5] END C=0.001, class_weight=balanced, penalty=l2, solver=saga;, score=0.886 total time= 1.6min\n",
      "[CV 1/5] END C=0.001, class_weight={0: 1, 1: 20}, penalty=l1, solver=liblinear;, score=0.889 total time=   3.3s\n",
      "[CV 2/5] END C=0.001, class_weight={0: 1, 1: 20}, penalty=l1, solver=liblinear;, score=0.973 total time=   2.9s\n",
      "[CV 2/5] END C=0.001, class_weight=balanced, penalty=l2, solver=saga;, score=0.974 total time= 1.6min\n",
      "[CV 3/5] END C=0.001, class_weight={0: 1, 1: 20}, penalty=l1, solver=liblinear;, score=0.974 total time=   3.5s\n",
      "[CV 4/5] END C=0.001, class_weight={0: 1, 1: 20}, penalty=l1, solver=liblinear;, score=0.973 total time=   3.8s\n",
      "[CV 5/5] END C=0.001, class_weight={0: 1, 1: 20}, penalty=l1, solver=liblinear;, score=0.973 total time=   2.8s\n",
      "[CV 4/5] END C=0.001, class_weight=balanced, penalty=l2, solver=saga;, score=0.974 total time= 1.7min\n",
      "[CV 4/5] END C=0.001, class_weight=balanced, penalty=l1, solver=saga;, score=0.972 total time= 2.7min\n",
      "[CV 1/5] END C=0.001, class_weight=balanced, penalty=l1, solver=saga;, score=0.883 total time= 2.8min\n",
      "[CV 5/5] END C=0.001, class_weight=balanced, penalty=l1, solver=saga;, score=0.972 total time= 2.8min\n",
      "[CV 1/5] END C=0.001, class_weight={0: 1, 1: 20}, penalty=l2, solver=liblinear;, score=0.890 total time=   3.0s\n",
      "[CV 2/5] END C=0.001, class_weight=balanced, penalty=l1, solver=saga;, score=0.972 total time= 2.9min\n",
      "[CV 2/5] END C=0.001, class_weight={0: 1, 1: 20}, penalty=l2, solver=liblinear;, score=0.974 total time=   3.9s\n",
      "[CV 3/5] END C=0.001, class_weight={0: 1, 1: 20}, penalty=l2, solver=liblinear;, score=0.975 total time=   3.5s\n",
      "[CV 4/5] END C=0.001, class_weight={0: 1, 1: 20}, penalty=l2, solver=liblinear;, score=0.973 total time=   3.5s\n",
      "[CV 5/5] END C=0.001, class_weight={0: 1, 1: 20}, penalty=l2, solver=liblinear;, score=0.973 total time=   3.8s\n",
      "[CV 5/5] END C=0.001, class_weight=balanced, penalty=l2, solver=saga;, score=0.974 total time= 1.8min\n",
      "[CV 3/5] END C=0.001, class_weight={0: 1, 1: 20}, penalty=l2, solver=saga;, score=0.975 total time=  50.4s\n",
      "[CV 3/5] END C=0.001, class_weight={0: 1, 1: 20}, penalty=l1, solver=saga;, score=0.974 total time= 1.6min\n",
      "[CV 1/5] END C=0.001, class_weight={0: 1, 1: 20}, penalty=l2, solver=saga;, score=0.890 total time= 1.5min\n",
      "[CV 2/5] END C=0.001, class_weight={0: 1, 1: 20}, penalty=l1, solver=saga;, score=0.973 total time= 2.6min\n",
      "[CV 2/5] END C=0.001, class_weight={0: 1, 1: 20}, penalty=l2, solver=saga;, score=0.974 total time= 1.6min\n",
      "[CV 1/5] END C=0.01, class_weight=balanced, penalty=l1, solver=liblinear;, score=0.885 total time=   6.9s\n",
      "[CV 2/5] END C=0.01, class_weight=balanced, penalty=l1, solver=liblinear;, score=0.976 total time=   7.6s\n",
      "[CV 1/5] END C=0.001, class_weight={0: 1, 1: 20}, penalty=l1, solver=saga;, score=0.889 total time= 2.9min\n",
      "[CV 4/5] END C=0.01, class_weight=balanced, penalty=l1, solver=liblinear;, score=0.976 total time=   8.8s\n",
      "[CV 3/5] END C=0.01, class_weight=balanced, penalty=l1, solver=liblinear;, score=0.977 total time=   8.9s\n",
      "[CV 5/5] END C=0.01, class_weight=balanced, penalty=l1, solver=liblinear;, score=0.976 total time=   8.3s\n",
      "[CV 4/5] END C=0.001, class_weight={0: 1, 1: 20}, penalty=l1, solver=saga;, score=0.973 total time= 2.8min\n",
      "[CV 5/5] END C=0.001, class_weight={0: 1, 1: 20}, penalty=l1, solver=saga;, score=0.973 total time= 2.7min\n",
      "[CV 1/5] END C=0.01, class_weight=balanced, penalty=l2, solver=liblinear;, score=0.886 total time=   5.7s\n",
      "[CV 2/5] END C=0.01, class_weight=balanced, penalty=l2, solver=liblinear;, score=0.976 total time=   4.6s\n",
      "[CV 4/5] END C=0.001, class_weight={0: 1, 1: 20}, penalty=l2, solver=saga;, score=0.974 total time= 1.7min\n",
      "[CV 3/5] END C=0.01, class_weight=balanced, penalty=l2, solver=liblinear;, score=0.977 total time=   6.1s\n",
      "[CV 4/5] END C=0.01, class_weight=balanced, penalty=l2, solver=liblinear;, score=0.976 total time=   6.5s\n",
      "[CV 5/5] END C=0.01, class_weight=balanced, penalty=l2, solver=liblinear;, score=0.976 total time=   5.2s\n",
      "[CV 5/5] END C=0.001, class_weight={0: 1, 1: 20}, penalty=l2, solver=saga;, score=0.974 total time= 1.7min\n",
      "[CV 3/5] END C=0.01, class_weight=balanced, penalty=l2, solver=saga;, score=0.977 total time= 3.1min\n",
      "[CV 3/5] END C=0.01, class_weight=balanced, penalty=l1, solver=saga;, score=0.977 total time= 4.7min\n"
     ]
    },
    {
     "name": "stderr",
     "output_type": "stream",
     "text": [
      "/Users/da.ma.ro/Documents/new-repo/gas-fraud-team-crime/.venv/lib/python3.11/site-packages/sklearn/linear_model/_sag.py:350: ConvergenceWarning: The max_iter was reached which means the coef_ did not converge\n",
      "  warnings.warn(\n"
     ]
    },
    {
     "name": "stdout",
     "output_type": "stream",
     "text": [
      "[CV 1/5] END C=0.01, class_weight=balanced, penalty=l2, solver=saga;, score=0.885 total time= 4.4min\n"
     ]
    },
    {
     "name": "stderr",
     "output_type": "stream",
     "text": [
      "/Users/da.ma.ro/Documents/new-repo/gas-fraud-team-crime/.venv/lib/python3.11/site-packages/sklearn/linear_model/_sag.py:350: ConvergenceWarning: The max_iter was reached which means the coef_ did not converge\n",
      "  warnings.warn(\n"
     ]
    },
    {
     "name": "stdout",
     "output_type": "stream",
     "text": [
      "[CV 2/5] END C=0.01, class_weight=balanced, penalty=l2, solver=saga;, score=0.976 total time= 4.4min\n",
      "[CV 1/5] END C=0.01, class_weight={0: 1, 1: 20}, penalty=l1, solver=liblinear;, score=0.890 total time=  15.0s\n",
      "[CV 2/5] END C=0.01, class_weight={0: 1, 1: 20}, penalty=l1, solver=liblinear;, score=0.975 total time=  15.2s\n"
     ]
    },
    {
     "name": "stderr",
     "output_type": "stream",
     "text": [
      "/Users/da.ma.ro/Documents/new-repo/gas-fraud-team-crime/.venv/lib/python3.11/site-packages/sklearn/linear_model/_sag.py:350: ConvergenceWarning: The max_iter was reached which means the coef_ did not converge\n",
      "  warnings.warn(\n"
     ]
    },
    {
     "name": "stdout",
     "output_type": "stream",
     "text": [
      "[CV 1/5] END C=0.01, class_weight=balanced, penalty=l1, solver=saga;, score=0.885 total time= 5.9min\n",
      "[CV 3/5] END C=0.01, class_weight={0: 1, 1: 20}, penalty=l1, solver=liblinear;, score=0.976 total time=  15.8s\n"
     ]
    },
    {
     "name": "stderr",
     "output_type": "stream",
     "text": [
      "/Users/da.ma.ro/Documents/new-repo/gas-fraud-team-crime/.venv/lib/python3.11/site-packages/sklearn/linear_model/_sag.py:350: ConvergenceWarning: The max_iter was reached which means the coef_ did not converge\n",
      "  warnings.warn(\n"
     ]
    },
    {
     "name": "stdout",
     "output_type": "stream",
     "text": [
      "[CV 2/5] END C=0.01, class_weight=balanced, penalty=l1, solver=saga;, score=0.976 total time= 6.0min\n"
     ]
    },
    {
     "name": "stderr",
     "output_type": "stream",
     "text": [
      "/Users/da.ma.ro/Documents/new-repo/gas-fraud-team-crime/.venv/lib/python3.11/site-packages/sklearn/linear_model/_sag.py:350: ConvergenceWarning: The max_iter was reached which means the coef_ did not converge\n",
      "  warnings.warn(\n"
     ]
    },
    {
     "name": "stdout",
     "output_type": "stream",
     "text": [
      "[CV 4/5] END C=0.01, class_weight=balanced, penalty=l1, solver=saga;, score=0.976 total time= 6.0min\n",
      "[CV 4/5] END C=0.01, class_weight={0: 1, 1: 20}, penalty=l1, solver=liblinear;, score=0.975 total time=  16.6s\n",
      "[CV 5/5] END C=0.01, class_weight={0: 1, 1: 20}, penalty=l1, solver=liblinear;, score=0.975 total time=  16.8s\n"
     ]
    },
    {
     "name": "stderr",
     "output_type": "stream",
     "text": [
      "/Users/da.ma.ro/Documents/new-repo/gas-fraud-team-crime/.venv/lib/python3.11/site-packages/sklearn/linear_model/_sag.py:350: ConvergenceWarning: The max_iter was reached which means the coef_ did not converge\n",
      "  warnings.warn(\n"
     ]
    },
    {
     "name": "stdout",
     "output_type": "stream",
     "text": [
      "[CV 5/5] END C=0.01, class_weight=balanced, penalty=l1, solver=saga;, score=0.976 total time= 6.1min\n",
      "[CV 1/5] END C=0.01, class_weight={0: 1, 1: 20}, penalty=l2, solver=liblinear;, score=0.890 total time=   5.4s\n",
      "[CV 2/5] END C=0.01, class_weight={0: 1, 1: 20}, penalty=l2, solver=liblinear;, score=0.975 total time=   5.8s\n",
      "[CV 3/5] END C=0.01, class_weight={0: 1, 1: 20}, penalty=l2, solver=liblinear;, score=0.976 total time=   6.1s\n",
      "[CV 4/5] END C=0.01, class_weight={0: 1, 1: 20}, penalty=l2, solver=liblinear;, score=0.975 total time=   5.5s\n",
      "[CV 5/5] END C=0.01, class_weight={0: 1, 1: 20}, penalty=l2, solver=liblinear;, score=0.975 total time=   5.2s\n"
     ]
    },
    {
     "name": "stderr",
     "output_type": "stream",
     "text": [
      "/Users/da.ma.ro/Documents/new-repo/gas-fraud-team-crime/.venv/lib/python3.11/site-packages/sklearn/linear_model/_sag.py:350: ConvergenceWarning: The max_iter was reached which means the coef_ did not converge\n",
      "  warnings.warn(\n"
     ]
    },
    {
     "name": "stdout",
     "output_type": "stream",
     "text": [
      "[CV 4/5] END C=0.01, class_weight=balanced, penalty=l2, solver=saga;, score=0.976 total time= 4.8min\n"
     ]
    },
    {
     "name": "stderr",
     "output_type": "stream",
     "text": [
      "/Users/da.ma.ro/Documents/new-repo/gas-fraud-team-crime/.venv/lib/python3.11/site-packages/sklearn/linear_model/_sag.py:350: ConvergenceWarning: The max_iter was reached which means the coef_ did not converge\n",
      "  warnings.warn(\n"
     ]
    },
    {
     "name": "stdout",
     "output_type": "stream",
     "text": [
      "[CV 5/5] END C=0.01, class_weight=balanced, penalty=l2, solver=saga;, score=0.976 total time= 4.8min\n",
      "[CV 3/5] END C=0.01, class_weight={0: 1, 1: 20}, penalty=l1, solver=saga;, score=0.976 total time= 3.9min\n",
      "[CV 1/5] END C=0.01, class_weight={0: 1, 1: 20}, penalty=l2, solver=saga;, score=0.890 total time= 3.8min\n"
     ]
    },
    {
     "name": "stderr",
     "output_type": "stream",
     "text": [
      "/Users/da.ma.ro/Documents/new-repo/gas-fraud-team-crime/.venv/lib/python3.11/site-packages/sklearn/linear_model/_sag.py:350: ConvergenceWarning: The max_iter was reached which means the coef_ did not converge\n",
      "  warnings.warn(\n"
     ]
    },
    {
     "name": "stdout",
     "output_type": "stream",
     "text": [
      "[CV 1/5] END C=0.01, class_weight={0: 1, 1: 20}, penalty=l1, solver=saga;, score=0.890 total time= 6.0min\n",
      "[CV 2/5] END C=0.01, class_weight={0: 1, 1: 20}, penalty=l1, solver=saga;, score=0.975 total time= 6.0min\n",
      "[CV 3/5] END C=0.01, class_weight={0: 1, 1: 20}, penalty=l2, solver=saga;, score=0.976 total time= 2.6min\n",
      "[CV 4/5] END C=0.01, class_weight={0: 1, 1: 20}, penalty=l1, solver=saga;, score=0.975 total time= 6.0min\n"
     ]
    },
    {
     "name": "stderr",
     "output_type": "stream",
     "text": [
      "/Users/da.ma.ro/Documents/new-repo/gas-fraud-team-crime/.venv/lib/python3.11/site-packages/sklearn/linear_model/_sag.py:350: ConvergenceWarning: The max_iter was reached which means the coef_ did not converge\n",
      "  warnings.warn(\n"
     ]
    },
    {
     "name": "stdout",
     "output_type": "stream",
     "text": [
      "[CV 5/5] END C=0.01, class_weight={0: 1, 1: 20}, penalty=l1, solver=saga;, score=0.975 total time= 6.0min\n",
      "[CV 2/5] END C=0.01, class_weight={0: 1, 1: 20}, penalty=l2, solver=saga;, score=0.975 total time= 3.6min\n",
      "[CV 4/5] END C=0.01, class_weight={0: 1, 1: 20}, penalty=l2, solver=saga;, score=0.975 total time= 3.2min\n",
      "[CV 5/5] END C=0.01, class_weight={0: 1, 1: 20}, penalty=l2, solver=saga;, score=0.975 total time= 2.6min\n"
     ]
    }
   ],
   "source": [
    "grid_resampled = grid_logreg.fit(X_train_resampled_scaled, y_train_resampled)"
   ]
  },
  {
   "cell_type": "code",
   "execution_count": 1089,
   "metadata": {},
   "outputs": [
    {
     "name": "stdout",
     "output_type": "stream",
     "text": [
      "Best score:\n",
      "0.96\n",
      "Best parameters:\n",
      "{'C': 0.01, 'class_weight': {0: 1, 1: 20}, 'penalty': 'l2', 'solver': 'liblinear'}\n"
     ]
    }
   ],
   "source": [
    "# Show best parameters\n",
    "print('Best score:\\n{:.2f}'.format(grid_resampled.best_score_))\n",
    "print(\"Best parameters:\\n{}\".format(grid_resampled.best_params_))"
   ]
  },
  {
   "cell_type": "code",
   "execution_count": 1090,
   "metadata": {},
   "outputs": [
    {
     "data": {
      "text/html": [
       "<style>#sk-container-id-36 {color: black;background-color: white;}#sk-container-id-36 pre{padding: 0;}#sk-container-id-36 div.sk-toggleable {background-color: white;}#sk-container-id-36 label.sk-toggleable__label {cursor: pointer;display: block;width: 100%;margin-bottom: 0;padding: 0.3em;box-sizing: border-box;text-align: center;}#sk-container-id-36 label.sk-toggleable__label-arrow:before {content: \"▸\";float: left;margin-right: 0.25em;color: #696969;}#sk-container-id-36 label.sk-toggleable__label-arrow:hover:before {color: black;}#sk-container-id-36 div.sk-estimator:hover label.sk-toggleable__label-arrow:before {color: black;}#sk-container-id-36 div.sk-toggleable__content {max-height: 0;max-width: 0;overflow: hidden;text-align: left;background-color: #f0f8ff;}#sk-container-id-36 div.sk-toggleable__content pre {margin: 0.2em;color: black;border-radius: 0.25em;background-color: #f0f8ff;}#sk-container-id-36 input.sk-toggleable__control:checked~div.sk-toggleable__content {max-height: 200px;max-width: 100%;overflow: auto;}#sk-container-id-36 input.sk-toggleable__control:checked~label.sk-toggleable__label-arrow:before {content: \"▾\";}#sk-container-id-36 div.sk-estimator input.sk-toggleable__control:checked~label.sk-toggleable__label {background-color: #d4ebff;}#sk-container-id-36 div.sk-label input.sk-toggleable__control:checked~label.sk-toggleable__label {background-color: #d4ebff;}#sk-container-id-36 input.sk-hidden--visually {border: 0;clip: rect(1px 1px 1px 1px);clip: rect(1px, 1px, 1px, 1px);height: 1px;margin: -1px;overflow: hidden;padding: 0;position: absolute;width: 1px;}#sk-container-id-36 div.sk-estimator {font-family: monospace;background-color: #f0f8ff;border: 1px dotted black;border-radius: 0.25em;box-sizing: border-box;margin-bottom: 0.5em;}#sk-container-id-36 div.sk-estimator:hover {background-color: #d4ebff;}#sk-container-id-36 div.sk-parallel-item::after {content: \"\";width: 100%;border-bottom: 1px solid gray;flex-grow: 1;}#sk-container-id-36 div.sk-label:hover label.sk-toggleable__label {background-color: #d4ebff;}#sk-container-id-36 div.sk-serial::before {content: \"\";position: absolute;border-left: 1px solid gray;box-sizing: border-box;top: 0;bottom: 0;left: 50%;z-index: 0;}#sk-container-id-36 div.sk-serial {display: flex;flex-direction: column;align-items: center;background-color: white;padding-right: 0.2em;padding-left: 0.2em;position: relative;}#sk-container-id-36 div.sk-item {position: relative;z-index: 1;}#sk-container-id-36 div.sk-parallel {display: flex;align-items: stretch;justify-content: center;background-color: white;position: relative;}#sk-container-id-36 div.sk-item::before, #sk-container-id-36 div.sk-parallel-item::before {content: \"\";position: absolute;border-left: 1px solid gray;box-sizing: border-box;top: 0;bottom: 0;left: 50%;z-index: -1;}#sk-container-id-36 div.sk-parallel-item {display: flex;flex-direction: column;z-index: 1;position: relative;background-color: white;}#sk-container-id-36 div.sk-parallel-item:first-child::after {align-self: flex-end;width: 50%;}#sk-container-id-36 div.sk-parallel-item:last-child::after {align-self: flex-start;width: 50%;}#sk-container-id-36 div.sk-parallel-item:only-child::after {width: 0;}#sk-container-id-36 div.sk-dashed-wrapped {border: 1px dashed gray;margin: 0 0.4em 0.5em 0.4em;box-sizing: border-box;padding-bottom: 0.4em;background-color: white;}#sk-container-id-36 div.sk-label label {font-family: monospace;font-weight: bold;display: inline-block;line-height: 1.2em;}#sk-container-id-36 div.sk-label-container {text-align: center;}#sk-container-id-36 div.sk-container {/* jupyter's `normalize.less` sets `[hidden] { display: none; }` but bootstrap.min.css set `[hidden] { display: none !important; }` so we also need the `!important` here to be able to override the default hidden behavior on the sphinx rendered scikit-learn.org. See: https://github.com/scikit-learn/scikit-learn/issues/21755 */display: inline-block !important;position: relative;}#sk-container-id-36 div.sk-text-repr-fallback {display: none;}</style><div id=\"sk-container-id-36\" class=\"sk-top-container\"><div class=\"sk-text-repr-fallback\"><pre>LogisticRegression(C=0.01, class_weight={0: 1, 1: 20}, max_iter=1000,\n",
       "                   random_state=42, solver=&#x27;liblinear&#x27;)</pre><b>In a Jupyter environment, please rerun this cell to show the HTML representation or trust the notebook. <br />On GitHub, the HTML representation is unable to render, please try loading this page with nbviewer.org.</b></div><div class=\"sk-container\" hidden><div class=\"sk-item\"><div class=\"sk-estimator sk-toggleable\"><input class=\"sk-toggleable__control sk-hidden--visually\" id=\"sk-estimator-id-124\" type=\"checkbox\" checked><label for=\"sk-estimator-id-124\" class=\"sk-toggleable__label sk-toggleable__label-arrow\">LogisticRegression</label><div class=\"sk-toggleable__content\"><pre>LogisticRegression(C=0.01, class_weight={0: 1, 1: 20}, max_iter=1000,\n",
       "                   random_state=42, solver=&#x27;liblinear&#x27;)</pre></div></div></div></div></div>"
      ],
      "text/plain": [
       "LogisticRegression(C=0.01, class_weight={0: 1, 1: 20}, max_iter=1000,\n",
       "                   random_state=42, solver='liblinear')"
      ]
     },
     "execution_count": 1090,
     "metadata": {},
     "output_type": "execute_result"
    }
   ],
   "source": [
    "# Save best model (including fitted preprocessing steps) as best_model \n",
    "best_model_resampled = grid_resampled.best_estimator_\n",
    "best_model_resampled"
   ]
  },
  {
   "cell_type": "markdown",
   "metadata": {},
   "source": [
    "### Final Evaluation resampled log regression"
   ]
  },
  {
   "cell_type": "code",
   "execution_count": 1100,
   "metadata": {},
   "outputs": [
    {
     "name": "stdout",
     "output_type": "stream",
     "text": [
      "Accuracy: 0.08\n",
      "Recall: 0.99\n",
      "Precision: 0.06\n",
      "AUC: 0.69\n"
     ]
    }
   ],
   "source": [
    "# Calculating the accuracy, recall and precision for the test set with the optimized model\n",
    "y_test_resampled_pred = best_model_resampled.predict(X_test_scaled)\n",
    "y_test_resampled_pred_proba = best_model_resampled.predict_proba(X_test_scaled)\n",
    "print(\"Accuracy: {:.2f}\".format(accuracy_score(y_test, y_test_resampled_pred)))\n",
    "print(\"Recall: {:.2f}\".format(recall_score(y_test, y_test_resampled_pred)))\n",
    "print(\"Precision: {:.2f}\".format(precision_score(y_test, y_test_resampled_pred)))\n",
    "print(\"AUC: {:.2f}\".format(roc_auc_score(y_test, y_test_resampled_pred_proba[:,1])))"
   ]
  },
  {
   "cell_type": "code",
   "execution_count": 1101,
   "metadata": {},
   "outputs": [
    {
     "name": "stdout",
     "output_type": "stream",
     "text": [
      "---------------------------------------------------------------------------\n",
      "Confusion Matrix: \n",
      " [[  698 24004]\n",
      " [   11  1411]]\n"
     ]
    }
   ],
   "source": [
    "print(\"-----\"*15)\n",
    "print(\"Confusion Matrix: \\n\", \n",
    "confusion_matrix(y_test, y_test_resampled_pred))"
   ]
  },
  {
   "cell_type": "code",
   "execution_count": 1102,
   "metadata": {},
   "outputs": [
    {
     "data": {
      "image/png": "[encoded data removed]",
      "text/plain": [
       "<Figure size 500x500 with 2 Axes>"
      ]
     },
     "metadata": {},
     "output_type": "display_data"
    }
   ],
   "source": [
    "#plot confusion matrix\n",
    "cm = confusion_matrix(y_test, y_test_resampled_pred)\n",
    "plt.figure(figsize=(5,5))\n",
    "sns.heatmap(cm, annot=True, fmt=\".0f\", linewidths=0.5, square = True, cmap = 'Blues_r');\n",
    "plt.ylabel('Actual label');\n",
    "plt.xlabel('Predicted label');\n",
    "all_sample_title = 'Accuracy Score: {0}'.format(accuracy_score(y_test, y_test_resampled_pred))\n",
    "plt.title(all_sample_title, size = 15);\n"
   ]
  },
  {
   "cell_type": "code",
   "execution_count": 1095,
   "metadata": {},
   "outputs": [
    {
     "data": {
      "image/png": "[encoded data removed]",
      "text/plain": [
       "<Figure size 640x480 with 1 Axes>"
      ]
     },
     "metadata": {},
     "output_type": "display_data"
    }
   ],
   "source": [
    "# plot roc curve\n",
    "\n",
    "fpr, tpr, thresholds = roc_curve(y_test, y_test_resampled_pred_proba[:,1])\n",
    "plt.plot(fpr, tpr, label='ROC curve')\n",
    "plt.plot([0, 1], [0, 1], linestyle='--', label='Random classifier')\n",
    "plt.xlabel('False Positive Rate')\n",
    "plt.ylabel('True Positive Rate')\n",
    "plt.title('ROC curve')\n",
    "plt.legend()\n",
    "plt.show()"
   ]
  }
 ],
 "metadata": {
  "kernelspec": {
   "display_name": ".venv",
   "language": "python",
   "name": "python3"
  },
  "language_info": {
   "codemirror_mode": {
    "name": "ipython",
    "version": 3
   },
   "file_extension": ".py",
   "mimetype": "text/x-python",
   "name": "python",
   "nbconvert_exporter": "python",
   "pygments_lexer": "ipython3",
   "version": "3.11.3"
  },
  "orig_nbformat": 4
 },
 "nbformat": 4,
 "nbformat_minor": 2
}
